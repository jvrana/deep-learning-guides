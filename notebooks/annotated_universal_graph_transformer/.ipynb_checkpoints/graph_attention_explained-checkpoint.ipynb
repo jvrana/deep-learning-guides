{
 "cells": [
  {
   "cell_type": "markdown",
   "metadata": {},
   "source": [
    "# Graph Transformer"
   ]
  },
  {
   "cell_type": "markdown",
   "metadata": {},
   "source": [
    "## Prelim"
   ]
  },
  {
   "cell_type": "code",
   "execution_count": 7,
   "metadata": {},
   "outputs": [],
   "source": [
    "import torch\n",
    "import dgl\n",
    "from torch import nn\n",
    "import torch.nn.functional as Fn\n",
    "from dgl import function as fn\n",
    "import numpy as np\n",
    "import seaborn as sns\n",
    "from matplotlib import pylab as plt"
   ]
  },
  {
   "cell_type": "markdown",
   "metadata": {},
   "source": [
    "## Standard Mult-Head Attention using Torch"
   ]
  },
  {
   "cell_type": "code",
   "execution_count": 106,
   "metadata": {},
   "outputs": [
    {
     "name": "stdout",
     "output_type": "stream",
     "text": [
      "torch.Size([10, 4, 30])\n",
      "torch.Size([10, 5, 4, 3])\n",
      "tensor([[-1.4903, -0.0961, -2.0008],\n",
      "        [-1.3389,  0.4778, -1.3547],\n",
      "        [ 0.8485,  3.0928, -1.0279],\n",
      "        [-3.8352, -1.1507,  2.7676]])\n"
     ]
    },
    {
     "data": {
      "text/plain": [
       "torch.Size([10, 4, 30])"
      ]
     },
     "execution_count": 106,
     "metadata": {},
     "output_type": "execute_result"
    }
   ],
   "source": [
    "# say we have our three linear embeddings of query, key, and value\n",
    "# it is assumed the dimensions between key and value are equivalent\n",
    "q = torch.randn(10, 4, 30)\n",
    "k = torch.randn(10, 3, 30)\n",
    "v = torch.randn(10, 3, 30)\n",
    "\n",
    "# Attention is generally applied with QK^TV, often with scaling and softmax applied,\n",
    "# as in softmax(scaling * QK^T)V\n",
    "print(torch.matmul(torch.matmul(q, k.transpose(-2, -1)), v).shape)\n",
    "\n",
    "\n",
    "# to do multihead attention, we split the tensor across multiple heads\n",
    "# we first calculate some dimensions\n",
    "batch_size = q.size(0)\n",
    "d_model = q.size(-1)\n",
    "heads = 5\n",
    "d_k = d_model // heads\n",
    "\n",
    "# else we need to change our embeddings a bit\n",
    "assert d_model % heads == 0\n",
    "\n",
    "# then we split d_model across multiple heads\n",
    "q_view = q.view(batch_size, -1, heads, d_k)\n",
    "\n",
    "# we then swap the head to the non-matrix (i.e. batch) dimensions using transpose\n",
    "q_view = q_view.transpose(1, 2)\n",
    "\n",
    "# NOTE: it must be done in this was as not to juggle the values\n",
    "\n",
    "# resulting in (batch_size, h, i, d_k)\n",
    "# our aim is to sum across d_k during matrix multiplication, so that (b, h, i, d_k) * (b, h, d_k, j) -> (b, h, i, j)\n",
    "# final matmul with the value results in (b, h, i, j) * (b, h, j, d_k) -> (b, h, j, d_k)\n",
    "q_view = q.view(batch_size, -1, heads, d_k).transpose(1, 2)\n",
    "k_view = k.view(batch_size, -1, heads, d_k).transpose(1, 2)\n",
    "v_view = v.view(batch_size, -1, heads, d_k).transpose(1, 2)\n",
    "    \n",
    "z = torch.matmul(q_view, k_view.transpose(-2, -1))\n",
    "print(z.shape)\n",
    "\n",
    "# the attention as a specific head (e.g. batch=0, head=1) can be found using:\n",
    "print(z[0, 1])\n",
    "\n",
    "# out final values with attenion applied\n",
    "a = torch.matmul(z, v_view)\n",
    "\n",
    "# which returns us to the original shape\n",
    "a.view(batch_size, -1, heads * d_k).shape"
   ]
  },
  {
   "cell_type": "markdown",
   "metadata": {},
   "source": [
    "We can quickly implement the initial embedding of the MultiHeadAttention. Right now, we are leaving out the more complicated forward propogation. We will walk through that implementation next."
   ]
  },
  {
   "cell_type": "code",
   "execution_count": 471,
   "metadata": {},
   "outputs": [],
   "source": [
    "class MultiHeadAttention(nn.Module):\n",
    "    \n",
    "    def __init__(self, h, dim_model):\n",
    "        super().__init__()\n",
    "        self.d_k = dim_model // h\n",
    "        assert dim_model % h == 0\n",
    "        self.h = h\n",
    "        # W_q, W_k, W_v, W_o\n",
    "        self.linears = clones(nn.Linear(dim_model, dim_model), 4)\n",
    "        \n",
    "    def get(self, x, fields='qkv'):\n",
    "        \"Return a dict of queries / keys / values.\"\n",
    "        batch_size = x.shape[0]\n",
    "        ret = {}\n",
    "        if 'q' in fields:\n",
    "            ret['q'] = self.linears[0](x).view(batch_size, self.h, self.d_k)\n",
    "        if 'k' in fields:\n",
    "            ret['k'] = self.linears[1](x).view(batch_size, self.h, self.d_k)\n",
    "        if 'v' in fields:\n",
    "            ret['v'] = self.linears[2](x).view(batch_size, self.h, self.d_k)\n",
    "        return ret\n",
    "    \n",
    "    def get_output(self, x):\n",
    "        \"get output of the multi-head attention\"\n",
    "        batch_size = x.shape[0]\n",
    "        return self.linvears[3](x.view(batch_size, -1))"
   ]
  },
  {
   "cell_type": "code",
   "execution_count": 472,
   "metadata": {},
   "outputs": [
    {
     "name": "stdout",
     "output_type": "stream",
     "text": [
      "Graph(num_nodes=5, num_edges=4,\n",
      "      ndata_schemes={'k': Scheme(shape=(12,), dtype=torch.float32), 'q': Scheme(shape=(12,), dtype=torch.float32), 'v': Scheme(shape=(12,), dtype=torch.float32)}\n",
      "      edata_schemes={})\n"
     ]
    },
    {
     "data": {
      "image/png": "[encoded data removed]",
      "text/plain": [
       "<Figure size 432x288 with 1 Axes>"
      ]
     },
     "metadata": {},
     "output_type": "display_data"
    }
   ],
   "source": [
    "import dgl\n",
    "import dgl.function as fn # contains all the built-in optimized message passing and reduce functions.\n",
    "import networkx as nx\n",
    "%matplotlib inline\n",
    "\n",
    "def init_g(d_k):\n",
    "    g = dgl.graph(([0, 0, 2, 3], [1, 2, 4, 4]))\n",
    "    n = g.number_of_nodes()\n",
    "    g.ndata['k'] = torch.randn(n, d_k)\n",
    "    g.ndata['q'] = torch.randn(n, d_k)\n",
    "    g.ndata['v'] = torch.randn(n, d_k)\n",
    "    return g\n",
    "\n",
    "g = init_g(12)\n",
    "\n",
    "nxg = nx.DiGraph(g.to_networkx())\n",
    "print(g)\n",
    "nx.draw(nxg)"
   ]
  },
  {
   "cell_type": "markdown",
   "metadata": {},
   "source": [
    "## Utils"
   ]
  },
  {
   "cell_type": "code",
   "execution_count": 543,
   "metadata": {},
   "outputs": [],
   "source": [
    "# plotting utils\n",
    "\n",
    "def to_nxg(g: dgl.DGLGraph) -> nx.DiGraph:\n",
    "    nxg = nx.DiGraph(g.to_networkx())\n",
    "    return nxg\n",
    "    \n",
    "def plot_graph(g: dgl.DGLGraph, ax=None, **kwargs):\n",
    "    nxg = to_nxg(g)\n",
    "    pos = nx.nx_agraph.pygraphviz_layout(nxg, prog='neato')\n",
    "    nx.draw(nxg, pos=pos, ax=ax, **kwargs)\n",
    "    return ax\n",
    "    \n",
    "def attn_to_sparse(g: dgl.DGLGraph, attn: torch.Tensor):\n",
    "    n = g.number_of_nodes()\n",
    "    i = torch.stack(g.edges())\n",
    "    v = attn\n",
    "    x = torch.sparse_coo_tensor(i, v.flatten(), (n, n))\n",
    "    return x\n",
    "\n",
    "def plot_attn(g: dgl.DGLGraph, attn: torch.Tensor, ax=None):\n",
    "    x = attn_to_sparse(g, attn)\n",
    "    sns.heatmap(x.to_dense().numpy(), ax=ax)\n",
    "\n",
    "def plot_graph_and_attn(g: dgl.DGLGraph, attn: torch.Tensor):\n",
    "    fig, axes = plt.subplots(1, 2, figsize=(8, 3))\n",
    "    axes[0].set_title(\"Graph\")\n",
    "    axes[1].set_title(\"Attention\")\n",
    "    plot_graph(g, ax=axes[0], width=attn.flatten().numpy())\n",
    "    plot_attn(g, attn, ax=axes[1])"
   ]
  },
  {
   "cell_type": "markdown",
   "metadata": {},
   "source": [
    "## Attention layer of Graph Transformer\n",
    "\n",
    "The **attention** layer, each node in module learns to assign weights on its incoming edges. For node pair $(i,j)$ with node $x_i,x_j \\in \\mathbb{R}^n$, the score of connection is as follows:\n",
    "\n",
    "$$\n",
    "q_j = W_q \\cdot x_j \\\\\n",
    "k_i = W_k \\cdot x_i \\\\\n",
    "v_i = W_v \\cdot x_i \\\\\n",
    "\\text{score} = q_j k_i^\\top\n",
    "$$\n",
    "\n",
    "$W_q, W_k, W_v \\in \\mathbb{R}^{n \\times d_k}$ map the representations of x to \"query\", \"key\", and \"value\" space repsectively. These values are three different linear projections of the data. For the \"query\" case ($W_j$), these are linear projections of source nodes for edges. For \"key\" and \"value\", were are linear projections of the destination nodes. The dot product between query source nodes and key destination nodes computes the score of the given connection.\n",
    "\n",
    "$$\n",
    "\\text{Attention}(Q, K, V) = \\text{Softmax}\\Bigg(\\frac{QK^\\top}{\\sqrt{d_k}}\\Bigg)V\n",
    "$$\n"
   ]
  },
  {
   "cell_type": "markdown",
   "metadata": {},
   "source": [
    "### Attention: Using Torch"
   ]
  },
  {
   "cell_type": "code",
   "execution_count": 523,
   "metadata": {},
   "outputs": [
    {
     "name": "stdout",
     "output_type": "stream",
     "text": [
      "tensor([[1.0000],\n",
      "        [1.0000],\n",
      "        [0.5805],\n",
      "        [0.4195]])\n"
     ]
    },
    {
     "name": "stderr",
     "output_type": "stream",
     "text": [
      "<ipython-input-523-56177758f41a>:24: UserWarning: Implicit dimension choice for softmax has been deprecated. Change the call to include dim=X as an argument.\n",
      "  score = F.softmax(_z / scale)\n"
     ]
    },
    {
     "data": {
      "image/png": "[encoded data removed]",
      "text/plain": [
       "<Figure size 576x216 with 3 Axes>"
      ]
     },
     "metadata": {},
     "output_type": "display_data"
    }
   ],
   "source": [
    "def attention(g):\n",
    "    attention_arrs = []\n",
    "    score_arrs = []\n",
    "    \n",
    "    q = g.ndata['q']\n",
    "    d_k = q.size(-1)\n",
    "    scale = d_k**0.5\n",
    "    n = g.number_of_nodes()\n",
    "    for i in range(n):\n",
    "        idx = torch.where(g.edges()[1] == i)[0]\n",
    "        src = g.edges()[0][idx]\n",
    "        dst = g.edges()[1][idx]\n",
    "        src = torch.tensor(list(set(src.tolist())), dtype=torch.long)\n",
    "        dst = torch.tensor(list(set(dst.tolist())), dtype=torch.long)\n",
    "\n",
    "        # dst\n",
    "        q = g.ndata['q'][dst]\n",
    "\n",
    "        #src\n",
    "        k = g.ndata['k'][src]\n",
    "        v = g.ndata['v'][src]\n",
    "        _z = torch.matmul(q, k.transpose(-2, -1))\n",
    "        \n",
    "        score = F.softmax(_z / scale)\n",
    "        out = torch.matmul(score, v)\n",
    "        if out.size(0) == 0:\n",
    "            out = torch.zeros_like(g.ndata['q'][:1])\n",
    "        attention_arrs.append(out)\n",
    "        score_arrs.append(score)\n",
    "\n",
    "    attention = torch.cat(attention_arrs)\n",
    "    score = torch.cat([s.T for s in score_arrs if s.size(0)], 0)\n",
    "    return attention, score\n",
    "\n",
    "g = init_g(3)\n",
    "out, attn = attention(g)\n",
    "print(attn)\n",
    "plot_graph_and_attn(g, attn)"
   ]
  },
  {
   "cell_type": "markdown",
   "metadata": {},
   "source": [
    "### Attention: With standard message passing\n",
    "Now we will walk through the forward propogation using dgl. First, lets create a simple test graph and attach some data to the nodes. Note, however, we cannot appropriately apply edge softmax."
   ]
  },
  {
   "cell_type": "code",
   "execution_count": 545,
   "metadata": {},
   "outputs": [
    {
     "name": "stdout",
     "output_type": "stream",
     "text": [
      "(tensor([0, 0, 2, 3]), tensor([1, 2, 4, 4]))\n",
      "tensor([0]) tensor([1, 2])\n",
      "tensor([[-3.9549],\n",
      "        [ 0.9090]])\n",
      "\n",
      "Edge Messages: a 'n_edge x d_model'\n",
      "tensor([[-2.5269, -1.0795, -0.3486],\n",
      "        [ 1.0945, -0.5738,  0.3882],\n",
      "        [ 0.3230, -2.2811, -0.2841],\n",
      "        [ 1.3294,  3.5841, -0.0533]])\n",
      "tensor([-3.9549,  0.9090, -2.2423,  4.8602])\n",
      "\n",
      "Note this is different from the typical message passing paradigm, which sums incoming edges.\n",
      "tensor([[ 0.0000,  0.0000,  0.0000],\n",
      "        [-2.5269, -1.0795, -0.3486],\n",
      "        [ 1.0945, -0.5738,  0.3882],\n",
      "        [ 0.0000,  0.0000,  0.0000],\n",
      "        [ 1.6524,  1.3030, -0.3374]])\n",
      "\n",
      "However, the most concise was is to use the `v_dot_u` operator, followed by sum as this fuses the kernels\n",
      "tensor([[-3.9549],\n",
      "        [ 0.9090],\n",
      "        [-2.2423],\n",
      "        [ 4.8602]])\n"
     ]
    }
   ],
   "source": [
    "# example: applying basic matmul qk^T in dgl\n",
    "\n",
    "# initialize graph\n",
    "g = init_g(3)\n",
    "print(g.edges())\n",
    "\n",
    "# lets run attention on edges (2, 4), (3, 4)\n",
    "i = torch.tensor([0, 1])\n",
    "src = g.edges()[0][i]\n",
    "dst = g.edges()[1][i]\n",
    "\n",
    "# we only look at unique edges\n",
    "src = torch.tensor(list(set(src.tolist())))\n",
    "dst = torch.tensor(list(set(dst.tolist())))\n",
    "print(src, dst)\n",
    "\n",
    "# filter the data\n",
    "k = g.ndata['k'][src]\n",
    "v = g.ndata['v'][src]\n",
    "q = g.ndata['q'][dst]\n",
    "\n",
    "# apply matmul in non-graph version\n",
    "# for mxn, expect a mxm matrix\n",
    "_z = torch.matmul(q, k.transpose(-2, -1))\n",
    "print(_z)\n",
    "\n",
    "# dgl version\n",
    "with g.local_scope():\n",
    "    g.apply_edges(fn.v_mul_u('q', 'k', '_z'))\n",
    "    print('\\nEdge Messages: a \\'n_edge x d_model\\'')\n",
    "    print(g.edata['_z'])\n",
    "    print(g.edata['_z'].sum(1))\n",
    "\n",
    "# typical message passing would take the messages on each edge\n",
    "# and for every node, sum incoming message. For attention,\n",
    "# we just want to sum across d_k. We may want to optimize\n",
    "# this by creating a corresponding kernel to combine this operation.\n",
    "# We therefore create a new user defined function.\n",
    "print(\"\\nNote this is different from the typical message passing paradigm, which sums incoming edges.\")\n",
    "with g.local_scope():\n",
    "    g.update_all(fn.v_mul_u('q', 'k', '_z'), fn.sum('_z', 'score'))\n",
    "    print(g.ndata['score'])\n",
    "    \n",
    "# `v_dot_u` will perform these same operations concisely\n",
    "print(\"\\nHowever, the most concise was is to use the `v_dot_u` operator, followed by sum as this fuses the kernels\")\n",
    "with g.local_scope():\n",
    "    g.apply_edges(fn.v_dot_u('q', 'k', '_z'))\n",
    "    print(g.edata['_z'])"
   ]
  },
  {
   "cell_type": "markdown",
   "metadata": {},
   "source": [
    "### Attention: Using Generalized Sampled Dense-Dense Matrix Multiplication (GSDDMM)\n",
    "\n",
    "We can perform this operation using the provided GSDDMM (Generalized Sampled Dense-Dense Matrix Multiplication) operations, which is much more memory efficient that materializing the tensors using standard send and receive. Between the message-passing API and GSpMM/GSDMM, both API are the same efficiency.\n"
   ]
  },
  {
   "cell_type": "markdown",
   "metadata": {},
   "source": [
    "Note that the above procedure is very inefficient. Firstly, we create a new tensor for every node, secondly, we are materializing new tensors at every step of the computation, and lastly, we perform a concatenation to obtain the final attention tensor. To optimize this procedure, lets use **dgl**."
   ]
  },
  {
   "cell_type": "code",
   "execution_count": 527,
   "metadata": {},
   "outputs": [
    {
     "name": "stderr",
     "output_type": "stream",
     "text": [
      "<ipython-input-523-56177758f41a>:24: UserWarning: Implicit dimension choice for softmax has been deprecated. Change the call to include dim=X as an argument.\n",
      "  score = F.softmax(_z / scale)\n"
     ]
    },
    {
     "name": "stdout",
     "output_type": "stream",
     "text": [
      "tensor([[ 0.0000,  0.0000,  0.0000],\n",
      "        [-0.4730,  1.0706,  0.4735],\n",
      "        [-0.4730,  1.0706,  0.4735],\n",
      "        [ 0.0000,  0.0000,  0.0000],\n",
      "        [-0.1508,  0.3051, -0.4308]])\n",
      "tensor([[1.0000],\n",
      "        [1.0000],\n",
      "        [0.3123],\n",
      "        [0.6877]])\n"
     ]
    },
    {
     "data": {
      "image/png": "[encoded data removed]",
      "text/plain": [
       "<Figure size 576x216 with 3 Axes>"
      ]
     },
     "metadata": {},
     "output_type": "display_data"
    }
   ],
   "source": [
    "def attention_dgl_gsddmm(g):\n",
    "    q = g.ndata['q']\n",
    "    k = g.ndata['k']\n",
    "    v = g.ndata['v']\n",
    "    d_k = q.size(-1)\n",
    "    score = Fops.edge_softmax(g, Fops.v_dot_u(g, q, k) / d_k**0.5)\n",
    "    out = Fops.u_mul_e_sum(g, v, score)\n",
    "    return out, score\n",
    "\n",
    "g = init_g(3)\n",
    "out0, attn0 = attention(g)\n",
    "out1, attn1 = attention_dgl_gsddmm(g)\n",
    "\n",
    "assert torch.allclose(out0, out1)\n",
    "assert torch.allclose(attn0, attn1)\n",
    "print(out1)\n",
    "print(attn1)\n",
    "\n",
    "plot_graph_and_attn(g, attn0)"
   ]
  },
  {
   "cell_type": "markdown",
   "metadata": {},
   "source": [
    "**Attention with half-complete graph**"
   ]
  },
  {
   "cell_type": "code",
   "execution_count": 542,
   "metadata": {},
   "outputs": [
    {
     "data": {
      "image/png": "[encoded data removed]",
      "text/plain": [
       "<Figure size 576x216 with 3 Axes>"
      ]
     },
     "metadata": {},
     "output_type": "display_data"
    }
   ],
   "source": [
    "def init_complete_g(n_nodes, d_k, half=False):\n",
    "    edges = torch.combinations(torch.arange(n_nodes), with_replacement=False).T\n",
    "    edges = edges[:, :]\n",
    "    \n",
    "    g = dgl.graph((edges[0], edges[1]))\n",
    "    if not half:\n",
    "        g.add_edges(edges[1], edges[0])\n",
    "    n = g.number_of_nodes()\n",
    "    x = torch.randn(3, n, d_k) * 2.\n",
    "    g.ndata['k'] = x[0]\n",
    "    g.ndata['q'] = x[1]\n",
    "    g.ndata['v'] = x[2]\n",
    "    return g\n",
    "\n",
    "g = init_complete_g(10, 7, half=True)\n",
    "out, attn = attention_dgl_gsddmm(g)\n",
    "plot_graph_and_attn(g, attn)"
   ]
  },
  {
   "cell_type": "markdown",
   "metadata": {},
   "source": [
    "### Graph Transformer Module"
   ]
  }
 ],
 "metadata": {
  "kernelspec": {
   "display_name": "Python 3",
   "language": "python",
   "name": "python3"
  },
  "language_info": {
   "codemirror_mode": {
    "name": "ipython",
    "version": 3
   },
   "file_extension": ".py",
   "mimetype": "text/x-python",
   "name": "python",
   "nbconvert_exporter": "python",
   "pygments_lexer": "ipython3",
   "version": "3.8.5"
  },
  "toc-autonumbering": true
 },
 "nbformat": 4,
 "nbformat_minor": 4
}
