{
 "cells": [
  {
   "cell_type": "markdown",
   "metadata": {},
   "source": [
    "# DGL Walkthrough"
   ]
  },
  {
   "cell_type": "markdown",
   "metadata": {},
   "source": [
    "## Message Passing"
   ]
  },
  {
   "cell_type": "code",
   "execution_count": 2,
   "metadata": {},
   "outputs": [
    {
     "name": "stderr",
     "output_type": "stream",
     "text": [
      "Using backend: pytorch\n"
     ]
    },
    {
     "data": {
      "text/plain": [
       "tensor([[ 0.0000,  0.0000],\n",
       "        [ 0.1392,  1.3757],\n",
       "        [ 0.0146, -1.5229],\n",
       "        [ 0.0000,  0.0000],\n",
       "        [ 0.0000,  0.0000]])"
      ]
     },
     "execution_count": 2,
     "metadata": {},
     "output_type": "execute_result"
    }
   ],
   "source": [
    "import dgl\n",
    "import dgl.function as fn\n",
    "import torch\n",
    "import torch.nn.functional as F\n",
    "\n",
    "g = dgl.graph(([0, 1, 2, 3], [1, 2, 3, 4]))\n",
    "g.ndata['x'] = torch.randn(5, 2)\n",
    "\n",
    "# we can send and receive messages using edge (u --> v)\n",
    "# we cannot send messages to edges that do not exist, however\n",
    "g.send_and_recv(([0, 1], [1, 2]), fn.copy_u('x', 'm'), fn.sum('m', 'h'))\n",
    "g.ndata['h']"
   ]
  },
  {
   "cell_type": "code",
   "execution_count": 31,
   "metadata": {},
   "outputs": [
    {
     "data": {
      "text/plain": [
       "tensor([[ 0.0000,  0.0000],\n",
       "        [ 0.2271,  0.0784],\n",
       "        [-0.3758,  0.2759],\n",
       "        [ 0.0000,  0.0000],\n",
       "        [ 0.0000,  0.0000]])"
      ]
     },
     "execution_count": 31,
     "metadata": {},
     "output_type": "execute_result"
    }
   ],
   "source": [
    "# we can send and receive messages using edge ids\n",
    "g.send_and_recv([0], fn.copy_u('x', 'm'), fn.sum('m', 'h'))\n",
    "g.ndata['h']"
   ]
  },
  {
   "cell_type": "code",
   "execution_count": 26,
   "metadata": {},
   "outputs": [
    {
     "name": "stdout",
     "output_type": "stream",
     "text": [
      "{'x': tensor([[ 0.2903, -0.1730],\n",
      "        [ 0.1695, -0.0738],\n",
      "        [ 0.6497, -1.1092],\n",
      "        [ 0.6976, -0.7749],\n",
      "        [-0.6042,  0.7806]])}\n",
      "{}\n"
     ]
    }
   ],
   "source": [
    "# **local scope**\n",
    "# we can enter a local scope for a graph such that any mutations in the graph are not \n",
    "# reflected in the original graph\n",
    "g = dgl.graph(([0, 1, 2, 3], [1, 2, 3, 4]))\n",
    "with g.local_scope():\n",
    "    g.ndata['x'] = torch.randn(5, 2)\n",
    "    print(g.ndata)\n",
    "print(g.ndata)"
   ]
  }
 ],
 "metadata": {
  "kernelspec": {
   "display_name": "Python 3",
   "language": "python",
   "name": "python3"
  },
  "language_info": {
   "codemirror_mode": {
    "name": "ipython",
    "version": 3
   },
   "file_extension": ".py",
   "mimetype": "text/x-python",
   "name": "python",
   "nbconvert_exporter": "python",
   "pygments_lexer": "ipython3",
   "version": "3.8.5"
  }
 },
 "nbformat": 4,
 "nbformat_minor": 4
}
