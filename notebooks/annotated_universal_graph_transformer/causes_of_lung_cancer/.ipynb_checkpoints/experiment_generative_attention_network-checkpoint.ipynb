{
 "cells": [
  {
   "cell_type": "markdown",
   "metadata": {},
   "source": [
    "# Prelim"
   ]
  },
  {
   "cell_type": "markdown",
   "metadata": {},
   "source": [
    "## Network"
   ]
  },
  {
   "cell_type": "code",
   "execution_count": 1,
   "metadata": {},
   "outputs": [
    {
     "name": "stderr",
     "output_type": "stream",
     "text": [
      "Using backend: pytorch\n"
     ]
    }
   ],
   "source": [
    "from torch import nn\n",
    "from torch.nn import functional\n",
    "import torch\n",
    "import dgl\n",
    "from abc import ABC, abstractmethod\n",
    "from torch import nn\n",
    "from typing import *\n",
    "import torch\n",
    "from copy import deepcopy\n",
    "import matplotlib as mpl\n",
    "from matplotlib import cm\n",
    "from dgl import ops as Fops\n",
    "from torch.nn import functional as F\n",
    "import networkx as nx\n",
    "import numpy as np\n",
    "import random\n",
    "\n",
    "\n",
    "def clones(net, N):\n",
    "    return [deepcopy(net) for _ in range(N)]\n",
    "    \n",
    "    \n",
    "class SizedModule(ABC) :\n",
    "\n",
    "    @abstractmethod\n",
    "    def get_size(self) -> int:\n",
    "        ...\n",
    "                  \n",
    "class AddNorm(nn.Module):\n",
    "    \n",
    "    def __init__(self, size: Optional[int] = None, dropout: float = 0.1, layer: Optional[SizedModule] = None):\n",
    "        super().__init__()\n",
    "        if size is None and layer is None:\n",
    "            return ValueError(\"Either size or layer must be provided\")\n",
    "        self.size = size or layer.get_size()\n",
    "        self.layer = layer\n",
    "        self.norm = nn.LayerNorm(self.size)\n",
    "        self.dropout = nn.Dropout(dropout)\n",
    "        \n",
    "    def forward(self, x, args=None, kwargs=None, layer: Optional[SizedModule] = None):\n",
    "        kwargs = kwargs or dict()\n",
    "        if args is None:\n",
    "            args = (x,)\n",
    "        layer = layer or self.layer\n",
    "        return self.norm(x + self.dropout(layer(*args, **kwargs)))\n",
    "    \n",
    "\n",
    "    \n",
    "class MultiHeadAttention(nn.Module):\n",
    "    \n",
    "    def __init__(self, dim_model, h):\n",
    "        super().__init__()\n",
    "        assert dim_model % h == 0\n",
    "        self.h = h\n",
    "        self.dim_model = dim_model\n",
    "        self.d_k = dim_model // h\n",
    "        self.linears  = clones(nn.Linear(dim_model, dim_model), 4)\n",
    "        self.attn = None\n",
    "    \n",
    "    def _view_head(self, x):\n",
    "        return x.view(x.size(0), -1, self.h, self.d_k).transpose(1, 2)\n",
    "        \n",
    "    def forward(self, g, query, key, value):\n",
    "        q = self._view_head(self.linears[0](query))\n",
    "        k = self._view_head(self.linears[1](key))\n",
    "        v = self._view_head(self.linears[2](value))\n",
    "        x = Fops.v_dot_u(g, q, k) / self.d_k**0.5\n",
    "        score = Fops.edge_softmax(g, x)\n",
    "#         score = Fops.v_dot_u(g, q, k) / self.d_k**0.5\n",
    "#         score = F.leaky_relu(Fops.v_dot_u(g, q, k) / self.d_k**0.5)\n",
    "        out = Fops.u_mul_e_sum(g, v, score)\n",
    "        out = out.transpose(1, 2).view(g.number_of_nodes(), self.h * self.d_k)\n",
    "        score = score.view(score.size(0), self.h, -1)\n",
    "        self.attn = score\n",
    "        out = self.linears[3](out)\n",
    "        return out\n",
    "    \n",
    "    \n",
    "class Parallel(nn.Module):\n",
    "    \n",
    "    def __init__(self, *modules):\n",
    "        super().__init__()\n",
    "        self.mods = nn.ModuleList(modules)\n",
    "        self.n_modules = len(modules)\n",
    "        \n",
    "    def forward(self, x):\n",
    "        assert x.shape[-1] == len(self.mods)\n",
    "        out = []\n",
    "        for i, mod in enumerate(self.mods):\n",
    "            _x = x[..., i]\n",
    "            try:\n",
    "                result = mod(_x)\n",
    "            except Exception as e:\n",
    "                msg = \"Error found in forward prop of module {}, {}\\n\".format(i, str(mod)[:1000])\n",
    "                msg = msg + str(e)\n",
    "                raise e.__class__(msg)\n",
    "            out.append(result)\n",
    "        return torch.cat(out, 1)\n",
    "    \n",
    "    \n",
    "class ParallelEmbedding(Parallel):\n",
    "    \n",
    "    def __init__(self, *dims):\n",
    "        mods = []\n",
    "        for a, b in dims:\n",
    "            mods.append(nn.Embedding(a, b))\n",
    "        super().__init__(*mods)\n",
    "        \n",
    "    \n",
    "class Dense(nn.Module):\n",
    "    \n",
    "    def __init__(self, *dims, dropout=0.2):\n",
    "        super().__init__()\n",
    "        layers = []\n",
    "        for a, b in zip(dims[:-1], dims[1:]):\n",
    "            layers += [nn.Linear(a, b), nn.LeakyReLU(), nn.Dropout(dropout)]\n",
    "        self.layers = nn.Sequential(*layers)\n",
    "        \n",
    "    def __call__(self, x):\n",
    "        return self.layers(x)"
   ]
  },
  {
   "cell_type": "code",
   "execution_count": 2,
   "metadata": {},
   "outputs": [],
   "source": [
    "src_embed = nn.Embedding(10, 16)\n",
    "dst_embed = nn.Embedding(10, 16)\n",
    "embed = nn.Embedding(10, 16)\n",
    "\n",
    "encoder = Dense(17, 16, 16)\n",
    "attn = AddNorm(16, layer=MultiHeadAttention(16, 16), dropout=0.2)\n",
    "decoder = Dense(16, 16, 1)\n",
    "\n",
    "nodes = torch.tensor([0, 1, 2])\n",
    "target = torch.tensor([[1.33], [1.2], [0.23]])\n",
    "\n",
    "q = src_embed(nodes)\n",
    "k = dst_embed(nodes)\n",
    "x = embed(nodes)\n",
    "y = target\n",
    "for i in range(3):\n",
    "    v = encoder(torch.cat([y, x], 1))\n",
    "    g = dgl.graph(([0, 1], [2, 2]))\n",
    "    h = attn(v, args=(g, q, k, v))\n",
    "    y = decoder(h)"
   ]
  },
  {
   "cell_type": "markdown",
   "metadata": {},
   "source": [
    "Every node should have a function associated with it that decides its output signal."
   ]
  },
  {
   "cell_type": "code",
   "execution_count": 3,
   "metadata": {},
   "outputs": [
    {
     "data": {
      "image/png": "[encoded data removed]",
      "text/plain": [
       "<Figure size 432x288 with 1 Axes>"
      ]
     },
     "metadata": {},
     "output_type": "display_data"
    }
   ],
   "source": [
    "def rand_edge_dir(g, bidirectional_prob: float = 0.):\n",
    "    dg = nx.DiGraph()\n",
    "    for n1, n2, edata in g.edges(data=True):\n",
    "        if random.randint(0, 1) == 0:\n",
    "            e = (n1, n2)\n",
    "        else:\n",
    "            e = (n2, n1)\n",
    "        dg.add_edge(*e, **edata)\n",
    "        if bidirectional_prob > 0:\n",
    "            x = random.random()\n",
    "            if x < bidirectional_prob:\n",
    "                dg.add_edge(*list(e)[::-1], **edata)\n",
    "    return dg\n",
    "\n",
    "\n",
    "def node_to_node_attr(g, key):\n",
    "    node_to_idx = {n: i for i, n in enumerate(g.nodes())}\n",
    "    \n",
    "    for n, ndata in g.nodes(data=True):\n",
    "        ndata[key] = node_to_idx[n]\n",
    "\n",
    "def nor_gate(inputs): \n",
    "    if sum(inputs):\n",
    "        return 0\n",
    "    else:\n",
    "        return 1\n",
    "\n",
    "def and_gate(inputs):\n",
    "    if 0 in inputs:\n",
    "        return 0\n",
    "    else:\n",
    "        return 1\n",
    "\n",
    "def gather_inputs(g, n, key):\n",
    "    inputs = []\n",
    "    for p in g.predecessors(n):\n",
    "        ndata = g.nodes()[p]\n",
    "        inputs.append(ndata[key])\n",
    "    return inputs\n",
    "\n",
    "def propogate(g, func_key='fx', key='x', default_value=0):\n",
    "    for n, ndata in g.nodes(data=True):\n",
    "        ndata[key] = default_value\n",
    "    for n in nx.topological_sort(g):\n",
    "        ndata = g.nodes()[n]\n",
    "        f = ndata['fx']\n",
    "        inputs = gather_inputs(g, n, key)\n",
    "        output = f(inputs)\n",
    "        ndata[key] = output\n",
    "\n",
    "\n",
    "g = nx.random_tree(20)\n",
    "g = rand_edge_dir(g, 0.0)\n",
    "\n",
    "pos = nx.nx_agraph.pygraphviz_layout(g, prog='dot')\n",
    "nx.draw(g, pos=pos)\n",
    "for n, ndata in g.nodes(data=True):\n",
    "    ndata['fx'] = nor_gate\n",
    "propogate(g, 'fx', 'x')"
   ]
  },
  {
   "cell_type": "markdown",
   "metadata": {},
   "source": [
    "## Transforms"
   ]
  },
  {
   "cell_type": "code",
   "execution_count": 4,
   "metadata": {},
   "outputs": [],
   "source": [
    "from torch.utils.data import Dataset\n",
    "import typing\n",
    "from copy import deepcopy\n",
    "from abc import ABC, abstractmethod\n",
    "\n",
    "class Transform(typing.Callable):\n",
    "    \n",
    "    __inplace__ = None\n",
    "    \n",
    "    @abstractmethod\n",
    "    def forward(self, x):\n",
    "        ...\n",
    "        \n",
    "    def __call__(self, x):\n",
    "        y = self.forward(x)\n",
    "        if y is x:\n",
    "            if not self.__inplace__ is True:\n",
    "                raise RuntimeError(\"Transform {} is defined as an out-of-place operation (__inplace__ == False), but found an in-place operation.\".format(self))\n",
    "        else:\n",
    "            if not self.__inplace__ is False:\n",
    "                raise RuntimeError(\"Transform {} is defined as an out-of-place operation (__inplace__ == True), but found an in-place operation.\".format(self))\n",
    "        return y\n",
    "    \n",
    "    \n",
    "class NetworkxToDGL(Transform):\n",
    "    \n",
    "    __inplace__ = False\n",
    "    \n",
    "    def __init__(self, node_attrs=None, edge_attrs=None):\n",
    "        self.node_attrs = node_attrs\n",
    "        self.edge_attrs = edge_attrs\n",
    "        \n",
    "    def forward(self, x):\n",
    "        return dgl.from_networkx(x, node_attrs=self.node_attrs, edge_attrs=self.edge_attrs)\n",
    "\n",
    "    \n",
    "class DGLFullyConnected(Transform):\n",
    "    \n",
    "    __inplace__ = True\n",
    "    \n",
    "    @staticmethod\n",
    "    def leading_zero(x):\n",
    "        yield torch.zeros_like(x[0])\n",
    "        yield from x\n",
    "        \n",
    "    @classmethod\n",
    "    def get_complete_edges(cls, g):\n",
    "        x = torch.cumsum(g.batch_num_nodes(), 0)\n",
    "        all_edges = []\n",
    "        for a, b in zip(cls.leading_zero(x), x):\n",
    "            edges = torch.combinations(torch.arange(a, b))\n",
    "            all_edges.append(edges)\n",
    "        return torch.cat(all_edges, 0).T\n",
    "\n",
    "    @classmethod\n",
    "    def add_complete_edges(cls, g):\n",
    "        n1 = g.number_of_nodes()\n",
    "        edges = cls.get_complete_edges(g)\n",
    "        g.add_edges(edges[0], edges[1])\n",
    "        g.add_edges(edges[1], edges[0])\n",
    "        n2 = g.number_of_nodes()\n",
    "        assert n1 == n2\n",
    "        return g\n",
    "    \n",
    "    def forward(self, g):\n",
    "        self.add_complete_edges(g)\n",
    "        return g\n",
    "\n",
    "    \n",
    "class Compose(Transform):\n",
    "    \n",
    "    def __init__(self, *transforms):\n",
    "        self.transforms = transforms\n",
    "        for t in transforms:\n",
    "            if hasattr(t.__inplace__) and t.__inplace__ is True:\n",
    "                self.__inplace__ = True\n",
    "                break\n",
    "        \n",
    "    def forward(self, x):\n",
    "        for transform in self.transforms:\n",
    "            x = transform(x)\n",
    "        return x\n",
    "    \n",
    "    \n",
    "class Deepcopy(Transform):\n",
    "    \n",
    "    __inplace__ = False\n",
    "    \n",
    "    \"\"\"Perform a deepcopy as not to modify original dataset\"\"\"\n",
    "    def forward(self, x):\n",
    "        return deepcopy(x)"
   ]
  },
  {
   "cell_type": "markdown",
   "metadata": {},
   "source": [
    "## Datasets"
   ]
  },
  {
   "cell_type": "code",
   "execution_count": 5,
   "metadata": {},
   "outputs": [
    {
     "name": "stdout",
     "output_type": "stream",
     "text": [
      "Graph(num_nodes=20, num_edges=399,\n",
      "      ndata_schemes={}\n",
      "      edata_schemes={})\n",
      "{0: Graph(num_nodes=20, num_edges=19,\n",
      "      ndata_schemes={}\n",
      "      edata_schemes={})}\n"
     ]
    }
   ],
   "source": [
    "class Cache(object):\n",
    "    \n",
    "    ...\n",
    "    \n",
    "class SplitDataset(Dataset):\n",
    "    \n",
    "    def __init__(self, data, transforms=None):\n",
    "        \"\"\"Basic dataset with `split` function and transforms\"\"\"\n",
    "        self.data = data\n",
    "        self.transforms = transforms\n",
    "        self.warnings()\n",
    "\n",
    "    def warnings(self):\n",
    "        hasdeepcopy = False\n",
    "        for t in self.transforms:\n",
    "            if t.__class__.__name__.lower() == 'deepcopy':\n",
    "                hasdeepcopy = True\n",
    "            if hasattr(t, '__inplace__') and t.__inplace__ is True:\n",
    "                if not hasdeepcopy:\n",
    "                    print(\"Warning: transforms have inplace operations that do not follow a deepcopy operation. This \" +\n",
    "                          \"may cause modifications to the original dataset.\\nOffending transform: {}\".format(t))\n",
    "                    break\n",
    "        \n",
    "    def apply_transforms(self, x, transforms):\n",
    "        if transforms:\n",
    "            if isinstance(transforms, (list, tuple)):\n",
    "                for t in transforms:\n",
    "                    x = t(x)\n",
    "            elif callable(transforms):\n",
    "                x = transforms(x)\n",
    "            else:\n",
    "                raise TypeError(\"Transforms must be callable or an list or tuple of callables\")\n",
    "        return x\n",
    "        \n",
    "        \n",
    "    def transform(self, x, idx):\n",
    "        return self.apply_transforms(x, self.transforms)\n",
    "\n",
    "    def __getitem__(self, idx):\n",
    "        return self.transform(self.data[idx], idx)\n",
    "\n",
    "    def split(self, *splits):\n",
    "        x = torch.tensor(splits)\n",
    "        x = torch.cumsum(x, 0) / x.sum()\n",
    "\n",
    "        idx = len(self) * x\n",
    "        idx = [0] + idx.long().tolist()\n",
    "        idx[-1] = None\n",
    "        idx[0] = None\n",
    "        datasets = []\n",
    "        for i, j in zip(idx[:-1], idx[1:]):\n",
    "            datasets.append(self.__class__(self.df.iloc[i:j], transforms=self.transforms))\n",
    "        return datasets\n",
    "    \n",
    "    def __len__(self):\n",
    "        return len(self.data)\n",
    "    \n",
    "class CachedDataset(SplitDataset):\n",
    "    \n",
    "    def __init__(self, data, transforms=None):\n",
    "        \"\"\"Cached dataset. Simply add `Cache()` in the transforms at the location \n",
    "        where you want the data to be cached. If modifications follow `Cache()`\n",
    "        it is recommended you add `Deepcopy()` immediately after the `Cache()` transform.\n",
    "        \n",
    "        For example, we may want to cache the dgl graph creation (expensive) and then perform\n",
    "        additional graph modifications: \n",
    "        \n",
    "        .. code-block::\n",
    "        \n",
    "            dataset = CachedDataset(graphs, transforms=[\n",
    "                NetworkxToDGL(),\n",
    "                Cache(),\n",
    "                Deepcopy(),\n",
    "                DGLFullyConnected(),\n",
    "            ])\n",
    "        \"\"\"\n",
    "        self.cache = {}\n",
    "        self._cache_at = None\n",
    "        if transforms:\n",
    "            for i, t in enumerate(transforms):\n",
    "                if isinstance(t, Cache):\n",
    "                    self._cache_at = i\n",
    "                    break\n",
    "        if isinstance(transforms, tuple):\n",
    "            transforms = list(transforms)\n",
    "        elif not isinstance(transforms, list):\n",
    "            transforms = [transforms]\n",
    "        \n",
    "        super().__init__(data, transforms=transforms)\n",
    "        \n",
    "          \n",
    "    def transform(self, x, idx):\n",
    "        cached_transforms = self.transforms[:self._cache_at]\n",
    "        other_transforms = self.transforms[self._cache_at+1:]\n",
    "        \n",
    "        if idx not in self.cache:\n",
    "            x = self.apply_transforms(x, cached_transforms)\n",
    "            self.cache[idx] = x\n",
    "    \n",
    "        x = self.apply_transforms(x, other_transforms)\n",
    "        return x\n",
    "        \n",
    "    def __getitem__(self, idx):\n",
    "        x = self.data[idx]\n",
    "        out = self.transform(x, idx)\n",
    "        return out\n",
    "        \n",
    "    \n",
    "def generate_graph():\n",
    "    g = nx.random_tree(20)\n",
    "    g = rand_edge_dir(g, 0.0)\n",
    "    for n, ndata in g.nodes(data=True):\n",
    "        ndata['fx'] = nor_gate\n",
    "    propogate(g, 'fx', 'x')\n",
    "    return g\n",
    "\n",
    "graphs = [generate_graph() for _ in range(100)]\n",
    "\n",
    "dataset = CachedDataset(graphs, transforms=[\n",
    "    NetworkxToDGL(),\n",
    "    Cache(),\n",
    "    Deepcopy(),\n",
    "    DGLFullyConnected(),\n",
    "])\n",
    "\n",
    "print(dataset[0])\n",
    "print(dataset.cache)"
   ]
  },
  {
   "cell_type": "markdown",
   "metadata": {},
   "source": [
    "## Utils"
   ]
  },
  {
   "cell_type": "code",
   "execution_count": 6,
   "metadata": {},
   "outputs": [],
   "source": [
    "def one_hot(x: torch.Tensor, num_classes: int, device=None, dtype=torch.long):\n",
    "    to_shape = None\n",
    "    if len(x.shape) > 1:\n",
    "        to_shape = tuple(x.shape) + (num_classes,)\n",
    "        x = x.flatten()\n",
    "    b = torch.zeros(x.shape[0], num_classes, device=device, dtype=dtype)\n",
    "    b[torch.arange(x.shape[0], device=device), x.to(device)] = 1\n",
    "    if to_shape:\n",
    "        b = b.view(to_shape)\n",
    "    return b"
   ]
  },
  {
   "cell_type": "markdown",
   "metadata": {},
   "source": [
    "# Experiments"
   ]
  },
  {
   "cell_type": "markdown",
   "metadata": {},
   "source": [
    "## Experiment 1: Linkage Prediction using Attention\n",
    "\n",
    "In this brief experiment, we try learn embedding such that we can predict the original adjacency matrix. This will prove that we can use attention-like mechanisms to learn node embeddings that capture a graph.\n",
    "\n",
    "**Results**\n",
    "\n",
    "The most important thing we learn from this is that the initial encoding size must be large as it is mainly a memorization procedure. Initial encoding must be large enough to evaluate all 400 connetions. In this regard, depths *is not important* assuming the encodings are fairly simple."
   ]
  },
  {
   "cell_type": "code",
   "execution_count": 7,
   "metadata": {},
   "outputs": [
    {
     "data": {
      "image/png": "[encoded data removed]",
      "text/plain": [
       "<Figure size 432x288 with 1 Axes>"
      ]
     },
     "metadata": {
      "needs_background": "light"
     },
     "output_type": "display_data"
    },
    {
     "data": {
      "image/png": "[encoded data removed]",
      "text/plain": [
       "<Figure size 432x288 with 2 Axes>"
      ]
     },
     "metadata": {
      "needs_background": "light"
     },
     "output_type": "display_data"
    },
    {
     "data": {
      "image/png": "[encoded data removed]",
      "text/plain": [
       "<Figure size 432x288 with 2 Axes>"
      ]
     },
     "metadata": {
      "needs_background": "light"
     },
     "output_type": "display_data"
    },
    {
     "name": "stderr",
     "output_type": "stream",
     "text": [
      "100%|██████████| 1000/1000 [00:06<00:00, 156.52it/s]\n"
     ]
    }
   ],
   "source": [
    "from tqdm import tqdm\n",
    "from matplotlib import pylab as plt\n",
    "import seaborn as sns\n",
    "from IPython import display\n",
    "\n",
    "\n",
    "def randnxg():\n",
    "    n_edges = 10\n",
    "    n_types = 20\n",
    "    n_edges_per_graph = (2, 50)\n",
    "    n_graphs = 10\n",
    "    g = nx.DiGraph()\n",
    "\n",
    "    for i in range(10):\n",
    "        n_inputs = torch.randint(2, 3, (1,))\n",
    "        n_outputs = torch.randint(1, 2, (1,))\n",
    "        inputs = torch.randint(0, n_types, (n_inputs,))\n",
    "        outputs = torch.randint(0, n_types, (n_outputs,))\n",
    "        g.add_node(i, inputs=inputs, outputs=outputs)\n",
    "\n",
    "    for n, ndata in g.nodes(data=True):\n",
    "        for n2, ndata2 in g.nodes(data=True):\n",
    "            for i in ndata['outputs']:\n",
    "                if i in ndata2['inputs']:\n",
    "                    g.add_edge(n, n2)\n",
    "\n",
    "    for n, ndata in g.nodes(data=True):\n",
    "        i = one_hot(ndata['inputs'], n_types).sum(0)\n",
    "        o = one_hot(ndata['outputs'], n_types).sum(0)\n",
    "        ndata['x'] = torch.cat([i, o])\n",
    "    return g\n",
    "\n",
    "\n",
    "class AdjPredNetwork(nn.Module):\n",
    "    \n",
    "    def __init__(self, d_model, *h):\n",
    "        super().__init__()\n",
    "        self.d_model = d_model\n",
    "        self.src_encoder = Dense(d_model, *h, dropout=0.2)\n",
    "        self.dst_encoder = Dense(d_model, *h, dropout=0.2)\n",
    "        self.decoder = nn.Sigmoid()\n",
    "        \n",
    "    def forward(self, x):\n",
    "        q = self.src_encoder(x)\n",
    "        k = self.dst_encoder(x)\n",
    "        adj = torch.matmul(q, k.T) * (1 - torch.eye(q.shape[0]))\n",
    "        return self.decoder(adj)\n",
    "\n",
    "nxg = randnxg()\n",
    "\n",
    "g = dgl.from_networkx(nxg, node_attrs=['x'])\n",
    "\n",
    "net = AdjPredNetwork(40, 1028)\n",
    "optim = torch.optim.AdamW(net.parameters())\n",
    "lossfn = nn.BCELoss()\n",
    "losses = []\n",
    "for i in tqdm(range(1000)):\n",
    "    g = dgl.from_networkx(nxg, node_attrs=['x'])\n",
    "    y = net(g.ndata['x'].float())\n",
    "    y_hat = g.adjacency_matrix().to_dense()\n",
    "    loss = lossfn(y.flatten(), y_hat.flatten())\n",
    "    \n",
    "    optim.zero_grad()\n",
    "    loss.backward()\n",
    "    optim.step()\n",
    "    \n",
    "    losses.append(loss.detach().item())\n",
    "    \n",
    "    if i % 100 == 0:\n",
    "        net.eval()\n",
    "        display.clear_output(wait=True)\n",
    "        plt.plot(losses)\n",
    "        plt.show()\n",
    "        g = dgl.from_networkx(nxg, node_attrs=['x'])\n",
    "        g = dgl.from_networkx(nxg, node_attrs=['x'])\n",
    "        y = net(g.ndata['x'].float())\n",
    "        y_hat = g.adjacency_matrix().to_dense()\n",
    "        sns.heatmap(y.detach())\n",
    "        plt.show()\n",
    "        sns.heatmap(y_hat)\n",
    "        plt.show()\n",
    "\n"
   ]
  },
  {
   "cell_type": "markdown",
   "metadata": {},
   "source": [
    "## Experiment 2: Prediction of Computation Graph\n",
    "\n",
    "In this experiment we try to predict the behavior of a graph the characterizes NOR circuits."
   ]
  },
  {
   "cell_type": "code",
   "execution_count": 8,
   "metadata": {},
   "outputs": [
    {
     "data": {
      "image/png": "[encoded data removed]",
      "text/plain": [
       "<Figure size 720x288 with 10 Axes>"
      ]
     },
     "metadata": {},
     "output_type": "display_data"
    }
   ],
   "source": [
    "norm = mpl.colors.Normalize(vmin=-1, vmax=1)\n",
    "\n",
    "g = randnxg()\n",
    "\n",
    "for n, ndata in g.nodes(data=True):\n",
    "    ndata['fx'] = nor_gate\n",
    "\n",
    "def gen_nor_circuit():\n",
    "    g = randnxg()\n",
    "    for n, ndata in g.nodes(data=True):\n",
    "        ndata['fx'] = nor_gate\n",
    "    propogate(g, key='y')\n",
    "    return g\n",
    "\n",
    "def propogate(g, func_key='fx', key='result', default_value=0):\n",
    "    for n, ndata in g.nodes(data=True):\n",
    "        ndata[key] = default_value\n",
    "    for i in range(10):\n",
    "        for n in g.nodes():\n",
    "            ndata = g.nodes()[n]\n",
    "            f = ndata['fx']\n",
    "            inputs = gather_inputs(g, n, key)\n",
    "            output = f(inputs)\n",
    "            ndata[key] = output\n",
    "            \n",
    "            \n",
    "            \n",
    "def plot_binary_graph(g, cmap=cm.binary, ax=None, key='y', **kwargs):\n",
    "    # cmap = cm.get_cmap('plasma')(np.linspace(0, 1, 255))     \n",
    "    x = np.array([ndata[key] for n, ndata in g.nodes(data=True)])\n",
    "    node_colors = cmap(x*255)\n",
    "    pos = nx.nx_agraph.pygraphviz_layout(g, prog='dot')\n",
    "    nx.draw(g, pos=pos, node_color=node_colors, ax=ax, width=2, edgecolors='k', linewidths=2., **kwargs)\n",
    "\n",
    "    \n",
    "graphs = []\n",
    "for i in range(10):\n",
    "    g = gen_nor_circuit()\n",
    "    graphs.append(g)\n",
    "    \n",
    "# generate some random data\n",
    "fig, axes = plt.subplots(2, 5, figsize=(10, 4))\n",
    "for ax, g in zip(axes.flatten(), graphs):\n",
    "    plot_binary_graph(g, ax=ax, node_size=100)\n",
    "plt.tight_layout()"
   ]
  },
  {
   "cell_type": "markdown",
   "metadata": {},
   "source": [
    "### Message Passaging Network"
   ]
  },
  {
   "cell_type": "code",
   "execution_count": 9,
   "metadata": {},
   "outputs": [
    {
     "data": {
      "image/png": "[encoded data removed]",
      "text/plain": [
       "<Figure size 432x288 with 1 Axes>"
      ]
     },
     "metadata": {
      "needs_background": "light"
     },
     "output_type": "display_data"
    },
    {
     "name": "stderr",
     "output_type": "stream",
     "text": [
      "100%|██████████| 10/10 [00:06<00:00,  1.61it/s]\n"
     ]
    }
   ],
   "source": [
    "from dgl import function as fn\n",
    "from torch.utils.data import DataLoader\n",
    "\n",
    "\n",
    "class CircuitNetwork(nn.Module):\n",
    "    \n",
    "    def __init__(self, d_model, h):\n",
    "        super().__init__()\n",
    "        self.encoder = Dense(d_model, h, h)\n",
    "        self.core = nn.Sequential(\n",
    "            Dense(h, h, h),\n",
    "            nn.LayerNorm(h)\n",
    "        )\n",
    "        self.decoder = nn.Sequential(\n",
    "            Dense(h, h, h),\n",
    "            nn.Linear(h, 1),\n",
    "#             nn.Sigmoid()\n",
    "        )\n",
    "        \n",
    "    def forward(self, g, x):\n",
    "        \n",
    "        with g.local_scope():\n",
    "            g.ndata['h'] = self.encoder(x)\n",
    "            for i in range(3):\n",
    "                g.update_all(fn.copy_u('h', 'm'), fn.sum('m', 'h'))\n",
    "                g.ndata['h'] = self.core(g.ndata['h'])\n",
    "            return self.decoder(g.ndata['h'])\n",
    "\n",
    "def train_circuit_network(net, epochs=1000, batch_size=32):\n",
    "    graphs = [gen_nor_circuit() for i in range(1000)]\n",
    "    dataset = SplitDataset(graphs, transforms=[\n",
    "        NetworkxToDGL(node_attrs=['x', 'y']),\n",
    "    ])\n",
    "    loader = DataLoader(dataset, batch_size=batch_size, collate_fn=dgl.batch)\n",
    "    for g in loader:\n",
    "        ...\n",
    "    net(g, g.ndata['x'].float())\n",
    "\n",
    "\n",
    "\n",
    "    optim = torch.optim.AdamW(net.parameters())\n",
    "    lossfn = nn.MSELoss()\n",
    "\n",
    "    def compute_loss(g, net):\n",
    "        y = net(g, g.ndata['x'].float())\n",
    "        y_hat = g.ndata['y'].float()\n",
    "        loss = lossfn(y.flatten(), y_hat.flatten())\n",
    "        return loss\n",
    "\n",
    "    losses = []\n",
    "    for i in tqdm(range(epochs)):\n",
    "        for g in loader:\n",
    "            loss = compute_loss(g, net)\n",
    "\n",
    "            optim.zero_grad()\n",
    "            loss.backward()\n",
    "            optim.step()\n",
    "\n",
    "            losses.append(loss.detach().item())\n",
    "\n",
    "        if i % 5 == 0:\n",
    "            display.clear_output(wait=True)\n",
    "            plt.plot(losses)\n",
    "            plt.show()\n",
    "            \n",
    "net = CircuitNetwork(40, 32)\n",
    "train_circuit_network(net, epochs=10)\n"
   ]
  },
  {
   "cell_type": "markdown",
   "metadata": {},
   "source": [
    "### AutoEncoder Network V1"
   ]
  },
  {
   "cell_type": "code",
   "execution_count": 10,
   "metadata": {},
   "outputs": [
    {
     "data": {
      "image/png": "[encoded data removed]",
      "text/plain": [
       "<Figure size 432x288 with 1 Axes>"
      ]
     },
     "metadata": {
      "needs_background": "light"
     },
     "output_type": "display_data"
    },
    {
     "name": "stderr",
     "output_type": "stream",
     "text": [
      "100%|██████████| 15/15 [00:24<00:00,  1.65s/it]\n"
     ]
    }
   ],
   "source": [
    "class AutoEncoderCircuitNetwork(nn.Module):\n",
    "    \n",
    "    def __init__(self, d_model, h):\n",
    "        super().__init__()\n",
    "        self.encoder = Dense(d_model, h, h)\n",
    "        self.inner_encoder = Dense(h+1, h, h)\n",
    "        self.core = nn.Sequential(\n",
    "            Dense(h, h, h),\n",
    "            nn.LayerNorm(h)\n",
    "        )\n",
    "        self.decoder = nn.Sequential(\n",
    "            Dense(h, h, h),\n",
    "            nn.Linear(h, 1),\n",
    "#             nn.Sigmoid()\n",
    "        )\n",
    "        self.out_arr = []\n",
    "        \n",
    "    def forward(self, g, x, n=5):\n",
    "        out_arr = []\n",
    "        with g.local_scope():\n",
    "            g.ndata['e'] = self.encoder(x)\n",
    "            g.ndata['x'] = torch.ones((g.number_of_nodes(), 1))\n",
    "            for i in range(n):\n",
    "                x = torch.cat([g.ndata['e'], g.ndata['x']], 1)\n",
    "                g.ndata['h'] = self.inner_encoder(x)\n",
    "                g.update_all(fn.copy_u('h', 'm'), fn.sum('m', 'h'))\n",
    "                g.ndata['h'] = self.core(g.ndata['h'])\n",
    "                out = self.decoder(g.ndata['h'])\n",
    "                g.ndata['x'] = out\n",
    "#                 g.update_all(fn.copy_u('x', 'm'), fn.sum('m', 'x'))\n",
    "                out_arr.append(out)\n",
    "        self.out_arr = out_arr\n",
    "        return out\n",
    "        \n",
    "net = AutoEncoderCircuitNetwork(40, 128)\n",
    "train_circuit_network(net, epochs=10)"
   ]
  },
  {
   "cell_type": "code",
   "execution_count": null,
   "metadata": {},
   "outputs": [],
   "source": []
  },
  {
   "cell_type": "code",
   "execution_count": 172,
   "metadata": {},
   "outputs": [
    {
     "data": {
      "text/plain": [
       "Graph(num_nodes=10, num_edges=7,\n",
       "      ndata_schemes={'x': Scheme(shape=(40,), dtype=torch.int64), 'y': Scheme(shape=(), dtype=torch.int64)}\n",
       "      edata_schemes={})"
      ]
     },
     "execution_count": 172,
     "metadata": {},
     "output_type": "execute_result"
    }
   ],
   "source": [
    "g.update_all(fn.copy)"
   ]
  },
  {
   "cell_type": "code",
   "execution_count": 12,
   "metadata": {},
   "outputs": [
    {
     "ename": "AttributeError",
     "evalue": "'DiGraph' object has no attribute 'batch_num_nodes'",
     "output_type": "error",
     "traceback": [
      "\u001b[0;31m---------------------------------------------------------------------------\u001b[0m",
      "\u001b[0;31mAttributeError\u001b[0m                            Traceback (most recent call last)",
      "\u001b[0;32m<ipython-input-12-2db9c520d6ea>\u001b[0m in \u001b[0;36m<module>\u001b[0;34m\u001b[0m\n\u001b[1;32m      7\u001b[0m \u001b[0;34m\u001b[0m\u001b[0m\n\u001b[1;32m      8\u001b[0m \u001b[0;34m\u001b[0m\u001b[0m\n\u001b[0;32m----> 9\u001b[0;31m \u001b[0mg\u001b[0m \u001b[0;34m=\u001b[0m \u001b[0mdataset\u001b[0m\u001b[0;34m[\u001b[0m\u001b[0;36m21\u001b[0m\u001b[0;34m]\u001b[0m\u001b[0;34m\u001b[0m\u001b[0;34m\u001b[0m\u001b[0m\n\u001b[0m\u001b[1;32m     10\u001b[0m \u001b[0mprint\u001b[0m\u001b[0;34m(\u001b[0m\u001b[0mg\u001b[0m\u001b[0;34m.\u001b[0m\u001b[0mndata\u001b[0m\u001b[0;34m)\u001b[0m\u001b[0;34m\u001b[0m\u001b[0;34m\u001b[0m\u001b[0m\n\u001b[1;32m     11\u001b[0m \u001b[0;32mwith\u001b[0m \u001b[0mg\u001b[0m\u001b[0;34m.\u001b[0m\u001b[0mlocal_scope\u001b[0m\u001b[0;34m(\u001b[0m\u001b[0;34m)\u001b[0m\u001b[0;34m:\u001b[0m\u001b[0;34m\u001b[0m\u001b[0;34m\u001b[0m\u001b[0m\n",
      "\u001b[0;32m<ipython-input-5-5b04bfc99e1a>\u001b[0m in \u001b[0;36m__getitem__\u001b[0;34m(self, idx)\u001b[0m\n\u001b[1;32m    103\u001b[0m     \u001b[0;32mdef\u001b[0m \u001b[0m__getitem__\u001b[0m\u001b[0;34m(\u001b[0m\u001b[0mself\u001b[0m\u001b[0;34m,\u001b[0m \u001b[0midx\u001b[0m\u001b[0;34m)\u001b[0m\u001b[0;34m:\u001b[0m\u001b[0;34m\u001b[0m\u001b[0;34m\u001b[0m\u001b[0m\n\u001b[1;32m    104\u001b[0m         \u001b[0mx\u001b[0m \u001b[0;34m=\u001b[0m \u001b[0mself\u001b[0m\u001b[0;34m.\u001b[0m\u001b[0mdata\u001b[0m\u001b[0;34m[\u001b[0m\u001b[0midx\u001b[0m\u001b[0;34m]\u001b[0m\u001b[0;34m\u001b[0m\u001b[0;34m\u001b[0m\u001b[0m\n\u001b[0;32m--> 105\u001b[0;31m         \u001b[0mout\u001b[0m \u001b[0;34m=\u001b[0m \u001b[0mself\u001b[0m\u001b[0;34m.\u001b[0m\u001b[0mtransform\u001b[0m\u001b[0;34m(\u001b[0m\u001b[0mx\u001b[0m\u001b[0;34m,\u001b[0m \u001b[0midx\u001b[0m\u001b[0;34m)\u001b[0m\u001b[0;34m\u001b[0m\u001b[0;34m\u001b[0m\u001b[0m\n\u001b[0m\u001b[1;32m    106\u001b[0m         \u001b[0;32mreturn\u001b[0m \u001b[0mout\u001b[0m\u001b[0;34m\u001b[0m\u001b[0;34m\u001b[0m\u001b[0m\n\u001b[1;32m    107\u001b[0m \u001b[0;34m\u001b[0m\u001b[0m\n",
      "\u001b[0;32m<ipython-input-5-5b04bfc99e1a>\u001b[0m in \u001b[0;36mtransform\u001b[0;34m(self, x, idx)\u001b[0m\n\u001b[1;32m     98\u001b[0m             \u001b[0mself\u001b[0m\u001b[0;34m.\u001b[0m\u001b[0mcache\u001b[0m\u001b[0;34m[\u001b[0m\u001b[0midx\u001b[0m\u001b[0;34m]\u001b[0m \u001b[0;34m=\u001b[0m \u001b[0mx\u001b[0m\u001b[0;34m\u001b[0m\u001b[0;34m\u001b[0m\u001b[0m\n\u001b[1;32m     99\u001b[0m \u001b[0;34m\u001b[0m\u001b[0m\n\u001b[0;32m--> 100\u001b[0;31m         \u001b[0mx\u001b[0m \u001b[0;34m=\u001b[0m \u001b[0mself\u001b[0m\u001b[0;34m.\u001b[0m\u001b[0mapply_transforms\u001b[0m\u001b[0;34m(\u001b[0m\u001b[0mx\u001b[0m\u001b[0;34m,\u001b[0m \u001b[0mother_transforms\u001b[0m\u001b[0;34m)\u001b[0m\u001b[0;34m\u001b[0m\u001b[0;34m\u001b[0m\u001b[0m\n\u001b[0m\u001b[1;32m    101\u001b[0m         \u001b[0;32mreturn\u001b[0m \u001b[0mx\u001b[0m\u001b[0;34m\u001b[0m\u001b[0;34m\u001b[0m\u001b[0m\n\u001b[1;32m    102\u001b[0m \u001b[0;34m\u001b[0m\u001b[0m\n",
      "\u001b[0;32m<ipython-input-5-5b04bfc99e1a>\u001b[0m in \u001b[0;36mapply_transforms\u001b[0;34m(self, x, transforms)\u001b[0m\n\u001b[1;32m     26\u001b[0m             \u001b[0;32mif\u001b[0m \u001b[0misinstance\u001b[0m\u001b[0;34m(\u001b[0m\u001b[0mtransforms\u001b[0m\u001b[0;34m,\u001b[0m \u001b[0;34m(\u001b[0m\u001b[0mlist\u001b[0m\u001b[0;34m,\u001b[0m \u001b[0mtuple\u001b[0m\u001b[0;34m)\u001b[0m\u001b[0;34m)\u001b[0m\u001b[0;34m:\u001b[0m\u001b[0;34m\u001b[0m\u001b[0;34m\u001b[0m\u001b[0m\n\u001b[1;32m     27\u001b[0m                 \u001b[0;32mfor\u001b[0m \u001b[0mt\u001b[0m \u001b[0;32min\u001b[0m \u001b[0mtransforms\u001b[0m\u001b[0;34m:\u001b[0m\u001b[0;34m\u001b[0m\u001b[0;34m\u001b[0m\u001b[0m\n\u001b[0;32m---> 28\u001b[0;31m                     \u001b[0mx\u001b[0m \u001b[0;34m=\u001b[0m \u001b[0mt\u001b[0m\u001b[0;34m(\u001b[0m\u001b[0mx\u001b[0m\u001b[0;34m)\u001b[0m\u001b[0;34m\u001b[0m\u001b[0;34m\u001b[0m\u001b[0m\n\u001b[0m\u001b[1;32m     29\u001b[0m             \u001b[0;32melif\u001b[0m \u001b[0mcallable\u001b[0m\u001b[0;34m(\u001b[0m\u001b[0mtransforms\u001b[0m\u001b[0;34m)\u001b[0m\u001b[0;34m:\u001b[0m\u001b[0;34m\u001b[0m\u001b[0;34m\u001b[0m\u001b[0m\n\u001b[1;32m     30\u001b[0m                 \u001b[0mx\u001b[0m \u001b[0;34m=\u001b[0m \u001b[0mtransforms\u001b[0m\u001b[0;34m(\u001b[0m\u001b[0mx\u001b[0m\u001b[0;34m)\u001b[0m\u001b[0;34m\u001b[0m\u001b[0;34m\u001b[0m\u001b[0m\n",
      "\u001b[0;32m<ipython-input-4-0633757a12b4>\u001b[0m in \u001b[0;36m__call__\u001b[0;34m(self, x)\u001b[0m\n\u001b[1;32m     13\u001b[0m \u001b[0;34m\u001b[0m\u001b[0m\n\u001b[1;32m     14\u001b[0m     \u001b[0;32mdef\u001b[0m \u001b[0m__call__\u001b[0m\u001b[0;34m(\u001b[0m\u001b[0mself\u001b[0m\u001b[0;34m,\u001b[0m \u001b[0mx\u001b[0m\u001b[0;34m)\u001b[0m\u001b[0;34m:\u001b[0m\u001b[0;34m\u001b[0m\u001b[0;34m\u001b[0m\u001b[0m\n\u001b[0;32m---> 15\u001b[0;31m         \u001b[0my\u001b[0m \u001b[0;34m=\u001b[0m \u001b[0mself\u001b[0m\u001b[0;34m.\u001b[0m\u001b[0mforward\u001b[0m\u001b[0;34m(\u001b[0m\u001b[0mx\u001b[0m\u001b[0;34m)\u001b[0m\u001b[0;34m\u001b[0m\u001b[0;34m\u001b[0m\u001b[0m\n\u001b[0m\u001b[1;32m     16\u001b[0m         \u001b[0;32mif\u001b[0m \u001b[0my\u001b[0m \u001b[0;32mis\u001b[0m \u001b[0mx\u001b[0m\u001b[0;34m:\u001b[0m\u001b[0;34m\u001b[0m\u001b[0;34m\u001b[0m\u001b[0m\n\u001b[1;32m     17\u001b[0m             \u001b[0;32mif\u001b[0m \u001b[0;32mnot\u001b[0m \u001b[0mself\u001b[0m\u001b[0;34m.\u001b[0m\u001b[0m__inplace__\u001b[0m \u001b[0;32mis\u001b[0m \u001b[0;32mTrue\u001b[0m\u001b[0;34m:\u001b[0m\u001b[0;34m\u001b[0m\u001b[0;34m\u001b[0m\u001b[0m\n",
      "\u001b[0;32m<ipython-input-4-0633757a12b4>\u001b[0m in \u001b[0;36mforward\u001b[0;34m(self, g)\u001b[0m\n\u001b[1;32m     64\u001b[0m \u001b[0;34m\u001b[0m\u001b[0m\n\u001b[1;32m     65\u001b[0m     \u001b[0;32mdef\u001b[0m \u001b[0mforward\u001b[0m\u001b[0;34m(\u001b[0m\u001b[0mself\u001b[0m\u001b[0;34m,\u001b[0m \u001b[0mg\u001b[0m\u001b[0;34m)\u001b[0m\u001b[0;34m:\u001b[0m\u001b[0;34m\u001b[0m\u001b[0;34m\u001b[0m\u001b[0m\n\u001b[0;32m---> 66\u001b[0;31m         \u001b[0mself\u001b[0m\u001b[0;34m.\u001b[0m\u001b[0madd_complete_edges\u001b[0m\u001b[0;34m(\u001b[0m\u001b[0mg\u001b[0m\u001b[0;34m)\u001b[0m\u001b[0;34m\u001b[0m\u001b[0;34m\u001b[0m\u001b[0m\n\u001b[0m\u001b[1;32m     67\u001b[0m         \u001b[0;32mreturn\u001b[0m \u001b[0mg\u001b[0m\u001b[0;34m\u001b[0m\u001b[0;34m\u001b[0m\u001b[0m\n\u001b[1;32m     68\u001b[0m \u001b[0;34m\u001b[0m\u001b[0m\n",
      "\u001b[0;32m<ipython-input-4-0633757a12b4>\u001b[0m in \u001b[0;36madd_complete_edges\u001b[0;34m(cls, g)\u001b[0m\n\u001b[1;32m     56\u001b[0m     \u001b[0;32mdef\u001b[0m \u001b[0madd_complete_edges\u001b[0m\u001b[0;34m(\u001b[0m\u001b[0mcls\u001b[0m\u001b[0;34m,\u001b[0m \u001b[0mg\u001b[0m\u001b[0;34m)\u001b[0m\u001b[0;34m:\u001b[0m\u001b[0;34m\u001b[0m\u001b[0;34m\u001b[0m\u001b[0m\n\u001b[1;32m     57\u001b[0m         \u001b[0mn1\u001b[0m \u001b[0;34m=\u001b[0m \u001b[0mg\u001b[0m\u001b[0;34m.\u001b[0m\u001b[0mnumber_of_nodes\u001b[0m\u001b[0;34m(\u001b[0m\u001b[0;34m)\u001b[0m\u001b[0;34m\u001b[0m\u001b[0;34m\u001b[0m\u001b[0m\n\u001b[0;32m---> 58\u001b[0;31m         \u001b[0medges\u001b[0m \u001b[0;34m=\u001b[0m \u001b[0mcls\u001b[0m\u001b[0;34m.\u001b[0m\u001b[0mget_complete_edges\u001b[0m\u001b[0;34m(\u001b[0m\u001b[0mg\u001b[0m\u001b[0;34m)\u001b[0m\u001b[0;34m\u001b[0m\u001b[0;34m\u001b[0m\u001b[0m\n\u001b[0m\u001b[1;32m     59\u001b[0m         \u001b[0mg\u001b[0m\u001b[0;34m.\u001b[0m\u001b[0madd_edges\u001b[0m\u001b[0;34m(\u001b[0m\u001b[0medges\u001b[0m\u001b[0;34m[\u001b[0m\u001b[0;36m0\u001b[0m\u001b[0;34m]\u001b[0m\u001b[0;34m,\u001b[0m \u001b[0medges\u001b[0m\u001b[0;34m[\u001b[0m\u001b[0;36m1\u001b[0m\u001b[0;34m]\u001b[0m\u001b[0;34m)\u001b[0m\u001b[0;34m\u001b[0m\u001b[0;34m\u001b[0m\u001b[0m\n\u001b[1;32m     60\u001b[0m         \u001b[0mg\u001b[0m\u001b[0;34m.\u001b[0m\u001b[0madd_edges\u001b[0m\u001b[0;34m(\u001b[0m\u001b[0medges\u001b[0m\u001b[0;34m[\u001b[0m\u001b[0;36m1\u001b[0m\u001b[0;34m]\u001b[0m\u001b[0;34m,\u001b[0m \u001b[0medges\u001b[0m\u001b[0;34m[\u001b[0m\u001b[0;36m0\u001b[0m\u001b[0;34m]\u001b[0m\u001b[0;34m)\u001b[0m\u001b[0;34m\u001b[0m\u001b[0;34m\u001b[0m\u001b[0m\n",
      "\u001b[0;32m<ipython-input-4-0633757a12b4>\u001b[0m in \u001b[0;36mget_complete_edges\u001b[0;34m(cls, g)\u001b[0m\n\u001b[1;32m     46\u001b[0m     \u001b[0;34m@\u001b[0m\u001b[0mclassmethod\u001b[0m\u001b[0;34m\u001b[0m\u001b[0;34m\u001b[0m\u001b[0m\n\u001b[1;32m     47\u001b[0m     \u001b[0;32mdef\u001b[0m \u001b[0mget_complete_edges\u001b[0m\u001b[0;34m(\u001b[0m\u001b[0mcls\u001b[0m\u001b[0;34m,\u001b[0m \u001b[0mg\u001b[0m\u001b[0;34m)\u001b[0m\u001b[0;34m:\u001b[0m\u001b[0;34m\u001b[0m\u001b[0;34m\u001b[0m\u001b[0m\n\u001b[0;32m---> 48\u001b[0;31m         \u001b[0mx\u001b[0m \u001b[0;34m=\u001b[0m \u001b[0mtorch\u001b[0m\u001b[0;34m.\u001b[0m\u001b[0mcumsum\u001b[0m\u001b[0;34m(\u001b[0m\u001b[0mg\u001b[0m\u001b[0;34m.\u001b[0m\u001b[0mbatch_num_nodes\u001b[0m\u001b[0;34m(\u001b[0m\u001b[0;34m)\u001b[0m\u001b[0;34m,\u001b[0m \u001b[0;36m0\u001b[0m\u001b[0;34m)\u001b[0m\u001b[0;34m\u001b[0m\u001b[0;34m\u001b[0m\u001b[0m\n\u001b[0m\u001b[1;32m     49\u001b[0m         \u001b[0mall_edges\u001b[0m \u001b[0;34m=\u001b[0m \u001b[0;34m[\u001b[0m\u001b[0;34m]\u001b[0m\u001b[0;34m\u001b[0m\u001b[0;34m\u001b[0m\u001b[0m\n\u001b[1;32m     50\u001b[0m         \u001b[0;32mfor\u001b[0m \u001b[0ma\u001b[0m\u001b[0;34m,\u001b[0m \u001b[0mb\u001b[0m \u001b[0;32min\u001b[0m \u001b[0mzip\u001b[0m\u001b[0;34m(\u001b[0m\u001b[0mcls\u001b[0m\u001b[0;34m.\u001b[0m\u001b[0mleading_zero\u001b[0m\u001b[0;34m(\u001b[0m\u001b[0mx\u001b[0m\u001b[0;34m)\u001b[0m\u001b[0;34m,\u001b[0m \u001b[0mx\u001b[0m\u001b[0;34m)\u001b[0m\u001b[0;34m:\u001b[0m\u001b[0;34m\u001b[0m\u001b[0;34m\u001b[0m\u001b[0m\n",
      "\u001b[0;31mAttributeError\u001b[0m: 'DiGraph' object has no attribute 'batch_num_nodes'"
     ]
    }
   ],
   "source": [
    "\n",
    "\n",
    "def plot_binary_graph(g, cmap=cm.binary, ax=None, key='y', **kwargs):\n",
    "    # cmap = cm.get_cmap('plasma')(np.linspace(0, 1, 255))     \n",
    "    x = np.array([ndata[key] for n, ndata in g.nodes(data=True)])\n",
    "    node_colors = cmap(x)\n",
    "    pos = nx.nx_agraph.pygraphviz_layout(g, prog='dot')\n",
    "    nx.draw(g, pos=pos, node_color=node_colors, ax=ax, width=2, edgecolors='k', linewidths=2., **kwargs)\n",
    "    \n",
    "\n",
    "g = dataset[21]\n",
    "print(g.ndata)\n",
    "with g.local_scope():\n",
    "    net(g, g.ndata['x'].float(), n=10)\n",
    "    g.ndata['out'] = torch.cat(net.out_arr, 1)\n",
    "    nxg = nx.DiGraph(g.to_networkx(node_attrs=['out', 'x']))\n",
    "    for n, ndata in nxg.nodes(data=True):\n",
    "        ndata['j'] = ndata['out'][9].item()\n",
    "    plot_binary_graph(nxg, key='j')\n",
    "\n"
   ]
  },
  {
   "cell_type": "markdown",
   "metadata": {},
   "source": [
    "### Autoencoder Network V2"
   ]
  },
  {
   "cell_type": "code",
   "execution_count": null,
   "metadata": {},
   "outputs": [
    {
     "data": {
      "image/png": "[encoded data removed]",
      "text/plain": [
       "<Figure size 432x288 with 1 Axes>"
      ]
     },
     "metadata": {
      "needs_background": "light"
     },
     "output_type": "display_data"
    },
    {
     "name": "stderr",
     "output_type": "stream",
     "text": [
      " 80%|████████  | 8/10 [00:09<00:02,  1.14s/it]"
     ]
    }
   ],
   "source": [
    "class AutoEncoderCircuitNetwork2(nn.Module):\n",
    "    \n",
    "    def __init__(self, d_model, h):\n",
    "        super().__init__()\n",
    "        self.encoder = Dense(d_model, h, h, h)\n",
    "        self.core = nn.Sequential(\n",
    "            Dense(h+1, h, h, h),\n",
    "        )\n",
    "        self.decoder = nn.Linear(h, 1)\n",
    "        self.out_arr = []\n",
    "        \n",
    "    def forward(self, g, x, n=5):\n",
    "        out_arr = []\n",
    "        with g.local_scope():\n",
    "            \n",
    "            g.ndata['e'] = self.encoder(x)\n",
    "            g.ndata['x'] = torch.zeros((g.number_of_nodes(), 1))\n",
    "            for i in range(n):\n",
    "                g.update_all(fn.copy_u('x', 'm'), fn.sum('m', 'x'))\n",
    "                g.ndata['h'] = torch.cat([g.ndata['e'], g.ndata['x']], 1)\n",
    "                g.ndata['h'] = self.core(g.ndata['h'])\n",
    "                out = self.decoder(g.ndata['h'])\n",
    "                g.ndata['x'] = out\n",
    "                out_arr.append(out)\n",
    "        self.out_arr = out_arr\n",
    "        return out\n",
    "        \n",
    "net = AutoEncoderCircuitNetwork2(40, 128)\n",
    "train_circuit_network(net, epochs=10)"
   ]
  },
  {
   "cell_type": "code",
   "execution_count": 35,
   "metadata": {},
   "outputs": [
    {
     "data": {
      "text/plain": [
       "\u001b[0;31mInit signature:\u001b[0m\n",
       "\u001b[0mnn\u001b[0m\u001b[0;34m.\u001b[0m\u001b[0mLayerNorm\u001b[0m\u001b[0;34m(\u001b[0m\u001b[0;34m\u001b[0m\n",
       "\u001b[0;34m\u001b[0m    \u001b[0mnormalized_shape\u001b[0m\u001b[0;34m:\u001b[0m \u001b[0mUnion\u001b[0m\u001b[0;34m[\u001b[0m\u001b[0mint\u001b[0m\u001b[0;34m,\u001b[0m \u001b[0mList\u001b[0m\u001b[0;34m[\u001b[0m\u001b[0mint\u001b[0m\u001b[0;34m]\u001b[0m\u001b[0;34m,\u001b[0m \u001b[0mtorch\u001b[0m\u001b[0;34m.\u001b[0m\u001b[0mSize\u001b[0m\u001b[0;34m]\u001b[0m\u001b[0;34m,\u001b[0m\u001b[0;34m\u001b[0m\n",
       "\u001b[0;34m\u001b[0m    \u001b[0meps\u001b[0m\u001b[0;34m:\u001b[0m \u001b[0mfloat\u001b[0m \u001b[0;34m=\u001b[0m \u001b[0;36m1e-05\u001b[0m\u001b[0;34m,\u001b[0m\u001b[0;34m\u001b[0m\n",
       "\u001b[0;34m\u001b[0m    \u001b[0melementwise_affine\u001b[0m\u001b[0;34m:\u001b[0m \u001b[0mbool\u001b[0m \u001b[0;34m=\u001b[0m \u001b[0;32mTrue\u001b[0m\u001b[0;34m,\u001b[0m\u001b[0;34m\u001b[0m\n",
       "\u001b[0;34m\u001b[0m\u001b[0;34m)\u001b[0m \u001b[0;34m->\u001b[0m \u001b[0;32mNone\u001b[0m\u001b[0;34m\u001b[0m\u001b[0;34m\u001b[0m\u001b[0m\n",
       "\u001b[0;31mDocstring:\u001b[0m     \n",
       "Applies Layer Normalization over a mini-batch of inputs as described in\n",
       "the paper `Layer Normalization <https://arxiv.org/abs/1607.06450>`__\n",
       "\n",
       ".. math::\n",
       "    y = \\frac{x - \\mathrm{E}[x]}{ \\sqrt{\\mathrm{Var}[x] + \\epsilon}} * \\gamma + \\beta\n",
       "\n",
       "The mean and standard-deviation are calculated separately over the last\n",
       "certain number dimensions which have to be of the shape specified by\n",
       ":attr:`normalized_shape`.\n",
       ":math:`\\gamma` and :math:`\\beta` are learnable affine transform parameters of\n",
       ":attr:`normalized_shape` if :attr:`elementwise_affine` is ``True``.\n",
       "The standard-deviation is calculated via the biased estimator, equivalent to\n",
       "`torch.var(input, unbiased=False)`.\n",
       "\n",
       ".. note::\n",
       "    Unlike Batch Normalization and Instance Normalization, which applies\n",
       "    scalar scale and bias for each entire channel/plane with the\n",
       "    :attr:`affine` option, Layer Normalization applies per-element scale and\n",
       "    bias with :attr:`elementwise_affine`.\n",
       "\n",
       "This layer uses statistics computed from input data in both training and\n",
       "evaluation modes.\n",
       "\n",
       "Args:\n",
       "    normalized_shape (int or list or torch.Size): input shape from an expected input\n",
       "        of size\n",
       "\n",
       "        .. math::\n",
       "            [* \\times \\text{normalized\\_shape}[0] \\times \\text{normalized\\_shape}[1]\n",
       "                \\times \\ldots \\times \\text{normalized\\_shape}[-1]]\n",
       "\n",
       "        If a single integer is used, it is treated as a singleton list, and this module will\n",
       "        normalize over the last dimension which is expected to be of that specific size.\n",
       "    eps: a value added to the denominator for numerical stability. Default: 1e-5\n",
       "    elementwise_affine: a boolean value that when set to ``True``, this module\n",
       "        has learnable per-element affine parameters initialized to ones (for weights)\n",
       "        and zeros (for biases). Default: ``True``.\n",
       "\n",
       "Shape:\n",
       "    - Input: :math:`(N, *)`\n",
       "    - Output: :math:`(N, *)` (same shape as input)\n",
       "\n",
       "Examples::\n",
       "\n",
       "    >>> input = torch.randn(20, 5, 10, 10)\n",
       "    >>> # With Learnable Parameters\n",
       "    >>> m = nn.LayerNorm(input.size()[1:])\n",
       "    >>> # Without Learnable Parameters\n",
       "    >>> m = nn.LayerNorm(input.size()[1:], elementwise_affine=False)\n",
       "    >>> # Normalize over last two dimensions\n",
       "    >>> m = nn.LayerNorm([10, 10])\n",
       "    >>> # Normalize over last dimension of size 10\n",
       "    >>> m = nn.LayerNorm(10)\n",
       "    >>> # Activating the module\n",
       "    >>> output = m(input)\n",
       "\u001b[0;31mInit docstring:\u001b[0m Initializes internal Module state, shared by both nn.Module and ScriptModule.\n",
       "\u001b[0;31mFile:\u001b[0m           ~/anaconda3/envs/torch/lib/python3.8/site-packages/torch/nn/modules/normalization.py\n",
       "\u001b[0;31mType:\u001b[0m           type\n",
       "\u001b[0;31mSubclasses:\u001b[0m     LayerNorm\n"
      ]
     },
     "metadata": {},
     "output_type": "display_data"
    }
   ],
   "source": [
    "nn.LayerNorm?"
   ]
  },
  {
   "cell_type": "markdown",
   "metadata": {},
   "source": [
    "### Experiment 3.5: Stochastic prediction"
   ]
  },
  {
   "cell_type": "markdown",
   "metadata": {},
   "source": [
    "## Experiment 3: Prediction of Computation Graph using Attention\n",
    "\n",
    "In this experiment, we try to learn a computation graph without knowing the interactions beforehand. We combine attention and graph propogation to accomplish this."
   ]
  },
  {
   "cell_type": "code",
   "execution_count": 533,
   "metadata": {},
   "outputs": [
    {
     "data": {
      "text/plain": [
       "(tensor([  0,   4,   5,  10,  10,  11,  11,  11,  12,  12,  12,  14,  16,  17,\n",
       "          17,  19,  19,  20,  20,  20,  20,  21,  22,  24,  26,  27,  28,  29,\n",
       "          30,  31,  32,  32,  34,  34,  34,  34,  34,  34,  38,  38,  39,  41,\n",
       "          42,  42,  46,  47,  47,  48,  49,  49,  52,  53,  53,  55,  55,  57,\n",
       "          58,  58,  59,  59,  60,  61,  64,  64,  64,  65,  66,  68,  69,  70,\n",
       "          70,  71,  71,  71,  71,  72,  74,  75,  76,  78,  79,  80,  81,  82,\n",
       "          82,  83,  84,  85,  88,  89,  89,  91,  91,  92,  92,  92,  92,  93,\n",
       "          95,  96,  97,  98, 101, 102, 105, 106, 109, 110, 112, 113, 113, 114,\n",
       "         114, 115, 115, 116, 116, 118, 118, 119, 120, 121, 121, 122, 122, 123,\n",
       "         126, 127, 129, 130, 131, 132, 132, 132, 133, 133, 134, 136, 136, 136,\n",
       "         137, 142, 144, 144, 144, 150, 150, 151, 151, 151, 152, 152, 156, 157,\n",
       "         157, 157, 158, 161, 161, 163, 165, 165, 165, 167, 169, 169, 169, 170,\n",
       "         172, 173, 174, 177, 177, 178, 180, 181, 181, 182, 183, 184, 185, 186,\n",
       "         186, 189, 192, 194, 196, 197, 199, 199, 200, 201, 201, 202, 202, 203,\n",
       "         203, 204, 204, 205, 205, 208, 209, 210, 211, 212, 216, 216, 217, 217,\n",
       "         218, 219, 219, 219, 220, 222, 222, 224, 224, 225, 226, 229, 230, 230,\n",
       "         231, 231, 232, 232, 232, 234, 234, 234, 237, 238, 238, 238, 240, 240,\n",
       "         241, 244, 244, 245, 246, 246, 248, 248, 250, 250, 254, 254, 254, 255,\n",
       "         255, 257, 257, 258, 259, 261, 262, 264, 264, 264, 265, 268, 269, 270,\n",
       "         271, 272, 273, 274, 274, 275, 276, 278, 279, 279, 280, 284, 285, 286,\n",
       "         287, 287, 288, 288, 289, 294, 294, 297, 297, 298, 298, 299, 299, 302,\n",
       "         306, 307, 308, 311, 311, 311, 313, 313, 313, 314, 314, 314, 315, 315,\n",
       "         316, 316, 317, 317, 317, 319]),\n",
       " tensor([  9,   0,   9,  12,  17,  10,  16,  19,  11,  12,  13,  14,  14,  12,\n",
       "          17,  10,  17,  22,  24,  25,  26,  29,  21,  29,  25,  22,  22,  28,\n",
       "          37,  35,  30,  34,  31,  32,  33,  36,  38,  39,  35,  39,  33,  47,\n",
       "          46,  49,  40,  46,  49,  42,  47,  48,  59,  50,  52,  57,  59,  56,\n",
       "          53,  54,  57,  59,  63,  66,  63,  65,  66,  66,  60,  65,  62,  76,\n",
       "          77,  71,  74,  77,  78,  70,  73,  73,  71,  78,  79,  89,  88,  84,\n",
       "          85,  80,  83,  80,  81,  82,  85,  92,  96,  90,  94,  96,  98,  97,\n",
       "          91,  97,  92,  97, 109, 106, 105, 109, 102, 114, 117, 113, 114, 113,\n",
       "         114, 117, 118, 113, 114, 112, 119, 112, 128, 120, 125, 120, 125, 127,\n",
       "         121, 128, 123, 130, 134, 131, 135, 137, 130, 131, 130, 131, 135, 137,\n",
       "         136, 143, 141, 148, 149, 157, 158, 151, 156, 157, 157, 158, 153, 151,\n",
       "         156, 157, 159, 161, 163, 162, 163, 165, 168, 161, 163, 165, 168, 172,\n",
       "         170, 172, 172, 170, 173, 177, 189, 180, 182, 188, 188, 187, 182, 181,\n",
       "         185, 187, 197, 191, 192, 192, 190, 199, 201, 200, 204, 203, 206, 203,\n",
       "         205, 200, 202, 201, 209, 205, 201, 215, 215, 214, 214, 216, 210, 218,\n",
       "         219, 211, 213, 217, 221, 222, 228, 220, 227, 227, 222, 226, 232, 239,\n",
       "         232, 239, 233, 237, 238, 230, 231, 235, 236, 230, 231, 235, 240, 243,\n",
       "         246, 247, 248, 243, 240, 243, 247, 248, 254, 256, 250, 255, 257, 254,\n",
       "         256, 253, 254, 255, 257, 261, 269, 262, 263, 264, 267, 269, 266, 276,\n",
       "         278, 270, 276, 271, 279, 278, 277, 278, 271, 273, 286, 284, 289, 284,\n",
       "         282, 287, 280, 283, 285, 292, 298, 291, 294, 291, 294, 291, 294, 300,\n",
       "         307, 307, 305, 311, 315, 319, 310, 314, 315, 311, 315, 319, 312, 318,\n",
       "         318, 319, 310, 314, 315, 316]))"
      ]
     },
     "execution_count": 533,
     "metadata": {},
     "output_type": "execute_result"
    }
   ],
   "source": [
    "g.edges()"
   ]
  },
  {
   "cell_type": "markdown",
   "metadata": {},
   "source": [
    "## Experiment 4: Prediction of Stochastic Computation Graph using Attention"
   ]
  },
  {
   "cell_type": "code",
   "execution_count": null,
   "metadata": {},
   "outputs": [],
   "source": []
  }
 ],
 "metadata": {
  "kernelspec": {
   "display_name": "Python 3",
   "language": "python",
   "name": "python3"
  },
  "language_info": {
   "codemirror_mode": {
    "name": "ipython",
    "version": 3
   },
   "file_extension": ".py",
   "mimetype": "text/x-python",
   "name": "python",
   "nbconvert_exporter": "python",
   "pygments_lexer": "ipython3",
   "version": "3.8.5"
  }
 },
 "nbformat": 4,
 "nbformat_minor": 4
}
