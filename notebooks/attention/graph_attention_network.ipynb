{
 "cells": [
  {
   "cell_type": "code",
   "execution_count": 2,
   "metadata": {},
   "outputs": [
    {
     "name": "stderr",
     "output_type": "stream",
     "text": [
      "Using backend: pytorch\n"
     ]
    }
   ],
   "source": [
    "import torch\n",
    "import torch as th\n",
    "import dgl\n",
    "\n",
    "import dgl.function as fn\n",
    "\n",
    "g = dgl.graph(([0, 1, 2], [3, 4, 5]))\n",
    "g.ndata['h'] = th.randn((g.number_of_nodes(), 10))\n",
    "g.edata['w'] = th.randn((g.number_of_edges(), 1))\n",
    "\n",
    "g.update_all(fn.copy_u('h', 'm'), fn.sum('m', 'h_sum'))\n",
    "g.update_all(fn.u_mul_e('h', 'w', 'm'), fn.mean('m', 'h_max'))"
   ]
  },
  {
   "cell_type": "markdown",
   "metadata": {},
   "source": [
    "## Attention layer of Transformer\n",
    "\n",
    "The **attention** layer, each node in module learns to assign weights on its incoming edges. For node pair $(i,j)$ with node $x_i,x_j \\in \\mathbb{R}^n$, the score of connection is as follows:\n",
    "\n",
    "$$\n",
    "q_j = W_q \\cdot x_j \\\\\n",
    "k_i = W_k \\cdot x_i \\\\\n",
    "v_i = W_v \\cdot x_i \\\\\n",
    "\\text{score} = q_j k_i\n",
    "$$\n",
    "\n",
    "$W_q, W_k, W_v \\in \\mathbb{R}^{n \\times d_k}$ map the representations of x to \"query\", \"key\", and \"value\" space repsectively. These values are three different linear projections of the data. For the \"query\" case ($W_j$), these are linear projections of source nodes for edges. For \"key\" and \"value\", were are linear projections of the destination nodes. The dot product between query source nodes and key destination nodes computes the score of the given connection.\n"
   ]
  },
  {
   "cell_type": "markdown",
   "metadata": {},
   "source": [
    "Let's now walk through this procedure manually, and gradually move to the optimized dgl implementation. Another way to write is this procedure is\n",
    "\n",
    "$$\n",
    "\\text{Attention}(Q, K, V) = \\text{softmax} ( \\frac{Q K^T}{\\sqrt{(d_k)}} ) V\n",
    "$$"
   ]
  },
  {
   "cell_type": "code",
   "execution_count": 3,
   "metadata": {},
   "outputs": [
    {
     "name": "stdout",
     "output_type": "stream",
     "text": [
      "torch.Size([10, 4])\n",
      "torch.Size([10, 3])\n"
     ]
    },
    {
     "name": "stderr",
     "output_type": "stream",
     "text": [
      "<ipython-input-3-04c711e75edb>:19: UserWarning: Implicit dimension choice for softmax has been deprecated. Change the call to include dim=X as an argument.\n",
      "  attention = torch.matmul(F.softmax(score), v)\n"
     ]
    }
   ],
   "source": [
    "from torch import nn\n",
    "import copy\n",
    "from torch.nn import functional as F\n",
    "import math\n",
    "\n",
    "def clones(module, N):\n",
    "    \"Produce N identical layers.\"\n",
    "    return nn.ModuleList([copy.deepcopy(module) for _ in range(N)])\n",
    "\n",
    "d_k = 3\n",
    "x_j = torch.randn(10, d_k) # destination nodes j\n",
    "x_i = torch.randn(4, d_k)  # source nodes i\n",
    "W_q, W_k, W_v, W_o = clones(nn.Linear(3, 3), 4)\n",
    "q = W_q(x_j)\n",
    "k = W_k(x_i)\n",
    "v = W_v(x_i)\n",
    "score = torch.matmul(q, k.transpose(-2, -1)) / math.sqrt(d_k)\n",
    "print(score.shape)\n",
    "attention = torch.matmul(F.softmax(score), v)\n",
    "print(attention.shape)"
   ]
  },
  {
   "cell_type": "markdown",
   "metadata": {},
   "source": [
    "### Multi-Head Attention\n",
    "\n",
    "For **multi-head attention**, we compute a portion of the attention and concatenate the results. Hence attention calculations can occur in parallel. Lets again walk through this manually."
   ]
  },
  {
   "cell_type": "code",
   "execution_count": 4,
   "metadata": {},
   "outputs": [
    {
     "name": "stdout",
     "output_type": "stream",
     "text": [
      "torch.Size([10, 4, 30])\n",
      "torch.Size([10, 5, 4, 3])\n",
      "tensor([[-0.3419, -2.0336, -1.3005],\n",
      "        [ 2.2123, -1.0456, -0.3535],\n",
      "        [ 1.0521,  3.1657,  1.2814],\n",
      "        [ 2.3995, -1.5056,  3.1917]])\n"
     ]
    },
    {
     "data": {
      "text/plain": [
       "torch.Size([10, 4, 30])"
      ]
     },
     "execution_count": 4,
     "metadata": {},
     "output_type": "execute_result"
    }
   ],
   "source": [
    "# say we have our three linear embeddings of query, key, and value\n",
    "# it is assumed the dimensions between key and value are equivalent\n",
    "q = torch.randn(10, 4, 30)\n",
    "k = torch.randn(10, 3, 30)\n",
    "v = torch.randn(10, 3, 30)\n",
    "\n",
    "# Attention is generally applied with QK^TV, often with scaling and softmax applied,\n",
    "# as in softmax(scaling * QK^T)V\n",
    "print(torch.matmul(torch.matmul(q, k.transpose(-2, -1)), v).shape)\n",
    "\n",
    "\n",
    "# to do multihead attention, we split the tensor across multiple heads\n",
    "# we first calculate some dimensions\n",
    "batch_size = q.size(0)\n",
    "d_model = q.size(-1)\n",
    "heads = 5\n",
    "d_k = d_model // heads\n",
    "\n",
    "# else we need to change our embeddings a bit\n",
    "assert d_model % heads == 0\n",
    "\n",
    "# then we split d_model across multiple heads\n",
    "q_view = q.view(batch_size, -1, heads, d_k)\n",
    "\n",
    "# we then swap the head to the non-matrix (i.e. batch) dimensions using transpose\n",
    "q_view = q_view.transpose(1, 2)\n",
    "\n",
    "# NOTE: it must be done in this was as not to juggle the values\n",
    "\n",
    "# resulting in (batch_size, h, i, d_k)\n",
    "# our aim is to sum across d_k during matrix multiplication, so that (b, h, i, d_k) * (b, h, d_k, j) -> (b, h, i, j)\n",
    "# final matmul with the value results in (b, h, i, j) * (b, h, j, d_k) -> (b, h, j, d_k)\n",
    "q_view = q.view(batch_size, -1, heads, d_k).transpose(1, 2)\n",
    "k_view = k.view(batch_size, -1, heads, d_k).transpose(1, 2)\n",
    "v_view = v.view(batch_size, -1, heads, d_k).transpose(1, 2)\n",
    "    \n",
    "z = torch.matmul(q_view, k_view.transpose(-2, -1))\n",
    "print(z.shape)\n",
    "\n",
    "# the attention as a specific head (e.g. batch=0, head=1) can be found using:\n",
    "print(z[0, 1])\n",
    "\n",
    "# out final values with attenion applied\n",
    "a = torch.matmul(z, v_view)\n",
    "\n",
    "# which returns us to the original shape\n",
    "a.view(batch_size, -1, heads * d_k).shape"
   ]
  },
  {
   "cell_type": "markdown",
   "metadata": {},
   "source": [
    "## Multi-Headed Attention and Graph Transformer\n",
    "\n",
    "We can quickly implement the initial embedding of the MultiHeadAttention. Right now, we are leaving out the more complicated forward propogation. We will walk through that implementation next."
   ]
  },
  {
   "cell_type": "code",
   "execution_count": 8,
   "metadata": {},
   "outputs": [],
   "source": [
    "class MultiHeadAttention(nn.Module):\n",
    "    \n",
    "    def __init__(self, h, dim_model):\n",
    "        super().__init__()\n",
    "        self.d_k = dim_model // h\n",
    "        assert dim_model % h == 0\n",
    "        self.h = h\n",
    "        # W_q, W_k, W_v, W_o\n",
    "        self.linears = clones(nn.Linear(dim_model, dim_model), 4)\n",
    "        \n",
    "    def get(self, x, fields='qkv'):\n",
    "        \"Return a dict of queries / keys / values.\"\n",
    "        batch_size = x.shape[0]\n",
    "        ret = {}\n",
    "        if 'q' in fields:\n",
    "            ret['q'] = self.linears[0](x).view(batch_size, self.h, self.d_k)\n",
    "        if 'k' in fields:\n",
    "            ret['k'] = self.linears[1](x).view(batch_size, self.h, self.d_k)\n",
    "        if 'v' in fields:\n",
    "            ret['v'] = self.linears[2](x).view(batch_size, self.h, self.d_k)\n",
    "        return ret\n",
    "    \n",
    "    def get_output(self, x):\n",
    "        \"get output of the multi-head attention\"\n",
    "        batch_size = x.shape[0]\n",
    "        return self.linears[3](x.view(batch_size, -1))"
   ]
  },
  {
   "cell_type": "markdown",
   "metadata": {},
   "source": [
    "Now we will walk through the forward propogation using dgl. First, lets create a simple test graph and attach some data to the nodes."
   ]
  },
  {
   "cell_type": "code",
   "execution_count": 71,
   "metadata": {},
   "outputs": [
    {
     "name": "stdout",
     "output_type": "stream",
     "text": [
      "Graph(num_nodes=5, num_edges=4,\n",
      "      ndata_schemes={'q': Scheme(shape=(8,), dtype=torch.float32), 'k': Scheme(shape=(8,), dtype=torch.float32), 'v': Scheme(shape=(8,), dtype=torch.float32)}\n",
      "      edata_schemes={})\n"
     ]
    },
    {
     "data": {
      "image/png": "[encoded data removed]",
      "text/plain": [
       "<Figure size 432x288 with 1 Axes>"
      ]
     },
     "metadata": {},
     "output_type": "display_data"
    }
   ],
   "source": [
    "import dgl\n",
    "import dgl.function as fn # contains all the built-in optimized message passing and reduce functions.\n",
    "import networkx as nx\n",
    "%matplotlib inline\n",
    "\n",
    "g = dgl.graph(([0, 1, 2, 3], [2, 2, 3, 4]))\n",
    "x = torch.randn(g.number_of_nodes(), 8)\n",
    "# attn = MultiHeadAttention(2, 8)\n",
    "# ret = attn.get(x)\n",
    "g.ndata['q'] = torch.randn_like(x)\n",
    "g.ndata['k'] = torch.randn_like(x)\n",
    "g.ndata['v'] = torch.randn_like(x)\n",
    "\n",
    "nxg = nx.DiGraph(g.to_networkx())\n",
    "print(g)\n",
    "nx.draw(nxg)"
   ]
  },
  {
   "cell_type": "markdown",
   "metadata": {},
   "source": []
  },
  {
   "cell_type": "code",
   "execution_count": 120,
   "metadata": {},
   "outputs": [
    {
     "name": "stdout",
     "output_type": "stream",
     "text": [
      "tensor([ 0.5014, -1.8072])\n",
      "(tensor([0, 1, 2, 3]), tensor([2, 2, 3, 4]))\n",
      "tensor([[ 0.5014, -1.8072]])\n"
     ]
    }
   ],
   "source": [
    "print(g.edges())\n",
    "\n",
    "g.apply_edges(fn.v_mul_u('q', 'k', 'score'))\n",
    "score = g.edata['score']\n",
    "print(score[:2].sum(1))\n",
    "\n",
    "# manually\n",
    "q = g.ndata['q'][2:3]\n",
    "k = g.ndata['k'][:2]\n",
    "v = g.ndata['v'][:2]\n",
    "\n",
    "mm = torch.matmul\n",
    "print(mm(q, k.T))"
   ]
  },
  {
   "cell_type": "code",
   "execution_count": 139,
   "metadata": {},
   "outputs": [
    {
     "name": "stdout",
     "output_type": "stream",
     "text": [
      "tensor([[ 0.5014],\n",
      "        [-1.8072],\n",
      "        [ 4.4656],\n",
      "        [-2.3138]])\n"
     ]
    }
   ],
   "source": [
    "# now we create a user defined function\n",
    "\n",
    "def src_dot_dst(src_field, dst_field, out_field):\n",
    "    def func(edges):\n",
    "        return {out_field: (edges.src[src_field] * edges.dst[dst_field]).sum(-1, keepdim=True)}\n",
    "    return func\n",
    "\n",
    "def scaled_exp(field, scale_con)\n",
    "\n",
    "g.apply_edges(src_dot_dst('k', 'q', 'score'))\n",
    "print(g.edata['score'])"
   ]
  },
  {
   "cell_type": "code",
   "execution_count": 173,
   "metadata": {},
   "outputs": [
    {
     "name": "stdout",
     "output_type": "stream",
     "text": [
      "tensor([[ 0.0000,  0.0000,  0.0000,  0.0000,  0.0000,  0.0000,  0.0000,  0.0000],\n",
      "        [ 0.0000,  0.0000,  0.0000,  0.0000,  0.0000,  0.0000,  0.0000,  0.0000],\n",
      "        [ 0.7899, -4.7639,  0.0459,  0.1546,  0.6173, -0.0286, -0.3896,  2.2687],\n",
      "        [ 0.0890, -0.3561,  2.0339,  0.5506,  0.2999,  2.5642, -0.3474, -0.3684],\n",
      "        [-0.1353,  0.5503, -0.8651, -0.3484, -1.1232, -0.0104,  0.7730, -1.1547]])\n",
      "tensor([[ 0.0000,  0.0000,  0.0000,  0.0000,  0.0000,  0.0000,  0.0000,  0.0000],\n",
      "        [ 0.0000,  0.0000,  0.0000,  0.0000,  0.0000,  0.0000,  0.0000,  0.0000],\n",
      "        [ 0.0000,  0.0000,  0.0000,  0.0000,  0.0000,  0.0000,  0.0000,  0.0000],\n",
      "        [ 0.7899, -4.7639,  0.0459,  0.1546,  0.6173, -0.0286, -0.3896,  2.2687],\n",
      "        [ 0.0890, -0.3561,  2.0339,  0.5506,  0.2999,  2.5642, -0.3474, -0.3684]])\n"
     ]
    }
   ],
   "source": [
    "g.update_all(fn.v_mul_u('q', 'k', 'score'), fn.sum('score', 'z'))\n",
    "g.update_all(fn.copy_u('z', 's'), fn.sum('s', 's'))\n",
    "print(g.ndata['z'])\n",
    "print(g.ndata['s'])"
   ]
  },
  {
   "cell_type": "markdown",
   "metadata": {},
   "source": [
    "score[0,:]"
   ]
  },
  {
   "cell_type": "markdown",
   "metadata": {},
   "source": [
    "$$\n",
    "o = W_o \\cdot \\text{concat} ([wv^{(0)},wv^{(1)},...,wv^{(h)}])\n",
    "$$"
   ]
  },
  {
   "cell_type": "code",
   "execution_count": 33,
   "metadata": {},
   "outputs": [],
   "source": [
    "from torch import nn\n",
    "\n",
    "def clones(module, N):\n",
    "    \"Produce N identical layers.\"\n",
    "    return nn.ModuleList([copy.deepcopy(module) for _ in range(N)])\n",
    "\n",
    "\n",
    "class MultiHeadAttention(nn.Module):\n",
    "    \n",
    "    def __init__(self, h, d_model):\n",
    "        super().__init__()\n",
    "        self.d_k = d_model // h\n",
    "        self.h = h\n",
    "        \n",
    "        # W_q, W_k, W_v, W_o\n",
    "        self.linears = clones(nn.Linear(d_model, d_model), 4)\n",
    "        \n"
   ]
  }
 ],
 "metadata": {
  "kernelspec": {
   "display_name": "Python 3",
   "language": "python",
   "name": "python3"
  },
  "language_info": {
   "codemirror_mode": {
    "name": "ipython",
    "version": 3
   },
   "file_extension": ".py",
   "mimetype": "text/x-python",
   "name": "python",
   "nbconvert_exporter": "python",
   "pygments_lexer": "ipython3",
   "version": "3.8.5"
  },
  "toc-autonumbering": true
 },
 "nbformat": 4,
 "nbformat_minor": 4
}
